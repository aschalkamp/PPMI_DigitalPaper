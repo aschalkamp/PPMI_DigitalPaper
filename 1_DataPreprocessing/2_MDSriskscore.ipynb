{
 "cells": [
  {
   "cell_type": "code",
   "execution_count": null,
   "metadata": {},
   "outputs": [],
   "source": [
    "import pandas as pd\n",
    "import dask.dataframe as dd\n",
    "import numpy as np\n",
    "from scipy import stats\n",
    "\n",
    "import seaborn as sns\n",
    "import pylab as plt\n",
    "from statannot import add_stat_annotation\n",
    "import statsmodels.api as sm\n",
    "\n",
    "import missingno as msn\n",
    "\n",
    "from importlib import reload\n",
    "from functools import reduce\n",
    "import glob\n",
    "import datetime\n",
    "import re\n",
    "\n",
    "import sys\n",
    "sys.path.insert(1,'../scripts')\n",
    "import utils\n",
    "sys.path.insert(1,'../../phenotype') # this is the updated pympi package\n",
    "import _loaders\n",
    "import _preprocess\n",
    "import _info2021\n",
    "import data_wrangling\n",
    "\n",
    "from sklearn import cluster, decomposition,preprocessing,linear_model,model_selection,metrics,neighbors,mixture\n",
    "from sklearn.pipeline import Pipeline\n",
    "\n",
    "import pickle"
   ]
  },
  {
   "cell_type": "code",
   "execution_count": null,
   "metadata": {},
   "outputs": [],
   "source": [
    "def plot_context():\n",
    "    sns.set_context(\"talk\", rc={\"font.size\":18,\"axes.titlesize\":18,\"axes.labelsize\":16,\"font_scale\":0.9})"
   ]
  },
  {
   "cell_type": "code",
   "execution_count": null,
   "metadata": {},
   "outputs": [],
   "source": [
    "data_path = '/scratch/c.c21013066/data/ppmi'\n",
    "path = '/scratch/c.c21013066/data/ppmi/accelerometer'"
   ]
  },
  {
   "cell_type": "markdown",
   "metadata": {},
   "source": [
    "# load relevant data \n",
    "using helper functions defined in \"_loaders\" of the pypmi adaption"
   ]
  },
  {
   "cell_type": "code",
   "execution_count": null,
   "metadata": {
    "tags": []
   },
   "outputs": [],
   "source": [
    "demo = pd.read_csv(f'{data_path}/phenotypes2021/demographics.csv',parse_dates=['date_birth'])\n",
    "behavior = _loaders.load_behavior(f'{data_path}/phenotypes2021')\n",
    "datscan = _loaders.load_datscan_all(f'{data_path}/phenotypes2021')\n",
    "genotypes = _loaders.load_genotypes(f'{data_path}/phenotypes2021')\n",
    "prodromal = _loaders.load_prodromal(f'{data_path}/phenotypes2021')\n",
    "#merged, ambulatory, step, sleep, pulse, pulsevar = utils.load_timeseries(demo,path)"
   ]
  },
  {
   "cell_type": "code",
   "execution_count": null,
   "metadata": {},
   "outputs": [],
   "source": [
    "reload(_info2021)\n",
    "reload(_loaders)\n",
    "prodromalBerg = _loaders.load_prodromalBerg(f'{data_path}/phenotypes2021')\n",
    "prodromalBerg = prodromalBerg.set_index('participant')"
   ]
  },
  {
   "cell_type": "code",
   "execution_count": null,
   "metadata": {
    "tags": []
   },
   "outputs": [],
   "source": [
    "reload(_info2021)\n",
    "reload(data_wrangling)\n",
    "prod = data_wrangling.get_nonuse_caffeine(prodromalBerg)\n",
    "prod = data_wrangling.get_smoker(prod)\n",
    "prod = data_wrangling.get_rbdpositive(prod)\n",
    "prod = data_wrangling.get_subthresholdUPDRS(prod)\n",
    "prod = data_wrangling.get_updrs_scopa_identifiers(prod)\n",
    "prod = data_wrangling.get_prodromalconditions(prod)\n",
    "prod = data_wrangling.get_cognitiveimpairment(prod)\n",
    "prod = data_wrangling.get_hyposmiatest(prod)"
   ]
  },
  {
   "cell_type": "code",
   "execution_count": null,
   "metadata": {
    "tags": []
   },
   "outputs": [],
   "source": [
    "reload(_preprocess)\n",
    "datscan = _loaders.load_datscan_all(f'{data_path}/phenotypes2021')\n",
    "datscan = pd.merge(datscan,demo,on='participant',how='left')\n",
    "datscan = _preprocess.get_visit_age(datscan)\n",
    "datscan = _preprocess.get_DAT_deficit(datscan,age_sex_correct='none')\n",
    "dat_last = datscan.dropna(subset=['putamen_min'],how='any',axis='rows').sort_values('date').groupby('participant').last()"
   ]
  },
  {
   "cell_type": "code",
   "execution_count": null,
   "metadata": {},
   "outputs": [],
   "source": [
    "# merge it all together\n",
    "prodromal = pd.merge(dat_last.reset_index()[['participant','dat_deficit','putamen_min']],prod,\n",
    "                     on='participant',how='outer',suffixes=['','_visual'])\n",
    "prodromal['dat_deficit_visual'] = prodromal['dat_deficit_visual'].replace(['negative','positive'],[0,1])\n",
    "behprod = pd.merge(behavior.reset_index().drop(columns=['rbd','upsit']),prodromal,left_on=['participant','visit'],\n",
    "                   right_on=['participant','phenoconverted_visit'],how='right')\n",
    "behprod.loc[behprod['phenoconverted']==1,'phenoconverted_date'] = behprod.loc[behprod['phenoconverted']==1,'date']\n",
    "prod = pd.merge(demo,genotypes,on='participant',how='outer')\n",
    "prod = pd.merge(prod,behprod[np.hstack([prodromal.columns,'phenoconverted_date'])],on='participant',how='outer')\n",
    "prod['phenoconverted_age'] = (prod['phenoconverted_date'] - prod['date_birth'])/np.timedelta64(1,\"Y\")"
   ]
  },
  {
   "cell_type": "code",
   "execution_count": null,
   "metadata": {},
   "outputs": [],
   "source": [
    "# take care of dtypes\n",
    "prod.loc[np.logical_and(~prod['family_history'].isna(),prod['1st_degree_family_history'].isna()),'1st_degree_family_history'] = False\n",
    "prod['current_age'] = (datetime.datetime(2021, 10, 1) - prod['date_birth']) / np.timedelta64(1,'Y')"
   ]
  },
  {
   "cell_type": "code",
   "execution_count": null,
   "metadata": {},
   "outputs": [],
   "source": [
    "#add genetic info\n",
    "haplo = pd.read_csv(f'{data_path}/genotypes/haplotypes/PD_variants_clean.csv',index_col=0)\n",
    "PRS = pd.read_csv(f'/scratch/c.c21013066/data/ppmi/genotypes/PRS/merged_celltypesall_PRSice_3Set_consensusPD_mergedQC51_cov_sample.csv',index_col=0)\n",
    "PRS = PRS[np.logical_and(PRS['tissue'].isin(['SN']),PRS['cells']=='All')]\n",
    "#merged_best = pd.read_csv(f'/scratch/c.c21013066/data/ppmi/genotypes/PRS/{ts}/merged_celltypes_PRSice_{base}_consensusPD_mergedQC51_cov_best.csv',index_col=0)\n",
    "best_thr = pd.read_csv('/scratch/c.c21013066/data/ppmi/genotypes/PRS/SN/best_thresholds_percell_AUROC.csv',\n",
    "                       index_col=[0,1],header=[0,2]).droplevel(level=1,axis=1).droplevel(level=0,axis=0).rename(columns={'Unnamed: 2_level_0':'p-thresh'})\n",
    "keep=[]\n",
    "for c in best_thr.index:\n",
    "    thr = best_thr.loc[c,'p-thresh']\n",
    "    keep.append(PRS.loc[np.logical_and(PRS['cells']==c,PRS['p-thresh']==thr),['cells','tissue','value','p-thresh']])\n",
    "best = pd.concat(keep).reset_index()\n",
    "best = best.rename(columns={'value':'PRS'})\n",
    "\n",
    "best['PRS_Q'] = pd.qcut(best['PRS'],q=4,labels=['low','mid1','mid2','high'])\n",
    "best['PRS_highQ'] = (best['PRS_Q']=='high').astype(int)\n",
    "best['PRS_lowQ'] = (best['PRS_Q']=='low').astype(int)\n",
    "\n",
    "prod = pd.merge(prod,best,on='participant',how='outer')"
   ]
  },
  {
   "cell_type": "code",
   "execution_count": null,
   "metadata": {},
   "outputs": [],
   "source": [
    "prod.to_csv('/scratch/c.c21013066/data/ppmi/analyses/prodromal/raw_prod_Yan2024_>1.csv')"
   ]
  },
  {
   "cell_type": "markdown",
   "metadata": {},
   "source": [
    "# Test prodromal model from Berg et al 2015 and Heinzel 2019\n",
    "\n",
    "doi: 10.1002/mds.26431\n",
    "\n",
    "\"\n",
    "- Step 1: Establish the prior from the table51.25\n",
    "- Step 2: Calculate total LR 1.2 (male)x 1.5 (pesti-cide)x 0.88   (coffee) 1.25 x  (nonsmoker) x130(RBD) x4.0 (olfaction) x 0.8 (no constipation) x 0.85(nodepressionoranxiety), 0.88(nosomnolence)x 1.0(borderline motor testing – result omitted)= 616.\n",
    "- Step  3: Calculate  post-test  probability, using  one  oftwo methods:a. Make  an  exact  quantitative  probability  calculation using calculators. Result 89%, orb. From Table 2, LR must be 300. Actual LR>300, sopatient meets criteria for probable prodromal PD.\""
   ]
  },
  {
   "cell_type": "code",
   "execution_count": null,
   "metadata": {},
   "outputs": [],
   "source": [
    "def get_prior(df,age='age'):\n",
    "    d = {range(0, 55): 0.4, range(55, 60): 0.75, range(60, 65): 1.25, range(65, 70): 2.0, \n",
    "         range(70, 75): 2.5, range(75, 80): 3.5, range(80,130): 4.0}\n",
    "    df['prior'] = round(df[age]).apply(lambda x: next((v for k, v in d.items() if x in k), 0))\n",
    "    return df\n",
    "def calculate_LR(df,kind='Heinzel'):\n",
    "    if kind == 'Berg':\n",
    "        formula = pd.DataFrame([[1.2,0.8],[1.5,1],[0.88,1.35],[1.25,1],[0.8,1],[0.45,1],\n",
    "                          [130,0.62],[2.3,0.76],[4,0.43],[2.2,0.8],[1.8,0.85],[2.2,0.88],[40,0.65],[10,0.7],[2.0,0.9],\n",
    "                           [1.9,0.9],[1.2,0.87],[2.5,1]],\n",
    "                           index=['male','pesticide_exposure','caffeine','never_smoke','previous_smoke',\n",
    "                                  'current_smoke','rbd_psgproven','rbd_test','HYPOSMIA',\n",
    "                                  'constipation','DepressionAnxiety','ExcessiveDaytimeSleepiness',\n",
    "                                 'positiveDaT','UPDRS>6','ErectileDysfunction','UrinaryDysfunction',\n",
    "                                 'OrthostaticHypotension','1st_degree_family_history'],\n",
    "                           columns=['yes','no'])\n",
    "    elif kind == 'Heinzel':\n",
    "                formula = pd.DataFrame([[1.2,0.8],[1.5,1],[0.88,1.35],[1.2,1],[0.91,1],[0.51,1],\n",
    "                          [130,0.65],[2.8,0.89],[6.4,0.4],[2.5,0.82],[1.6,0.88],[2.7,0.86],[43.3,0.66],[9.6,0.55],[3.4,0.87],\n",
    "                           [2.0,0.9],[3.2,0.8],[2.5,1],\n",
    "                                        [1.57,1],[0.45,1],\n",
    "                                        #[1.3,0.91],#[1.8,1],[0.88,1],\n",
    "                                        [1.8,0.88],[1.5,0.97]],\n",
    "                           index=['male','pesticide_exposure','caffeine','never_smoke','previous_smoke',\n",
    "                                  'current_smoke','rbd_psgproven','rbd_test','HYPOSMIA',\n",
    "                                  'constipation_','DepressionAnxiety_','ExcessiveDaytimeSleepiness_',\n",
    "                                 'positiveDaT',\n",
    "                                  'UPDRS>6','ErectileDysfunction_','UrinaryDysfunction_',\n",
    "                                 'OrthostaticHypotension_','1st_degree_family_history_',\n",
    "                                 'PRS_highQ','PRS_lowQ',\n",
    "                                  #'physical_inactivity',#'urate_low','urate_high',\n",
    "                                  'cognitive_impairment','DiabetesII'],\n",
    "                           columns=['yes','no'])\n",
    "                print(formula)\n",
    "    else:\n",
    "        print(\"not a valid version: try 'Heinzel' or 'Berg'\")\n",
    "        return []\n",
    "    # create missing cols\n",
    "    df_new = df.copy(deep=True)\n",
    "    df_new['male'] = df_new['gender'].replace(['m','f'],[1,0])\n",
    "    df_new['pesticide_exposure'] = df_new['pesticide_occupational_exposure'].replace([9999],[np.nan])\n",
    "    df_new['rbd_psgproven'] = df_new[['rbd','rbd_record']].max(axis=1)\n",
    "    df_new['rbd_test'] = df_new['rbd_screen_positive'].copy()\n",
    "    df_new.loc[~df_new['rbd_psgproven'].isna(),'rbd_test'] = np.nan\n",
    "    df_new['HYPOSMIA'] = df_new[['hyposmia','Hyposmia','upsit']].max(axis=1)#upsit\n",
    "    df_new['positiveDaT'] = df_new[['dat_deficit','dat_deficit_visual']].max(axis=1)\n",
    "    df_new['PRS_Q'] = pd.qcut(df_new['PRS'],q=4,labels=['low','mid1','mid2','high'])\n",
    "    df_new['PRS_highQ'] = (df_new['PRS_Q']=='high').astype(int)\n",
    "    df_new['PRS_lowQ'] = (df_new['PRS_Q']=='low').astype(int)\n",
    "    df_new['1st_degree_family_history_'] = df_new['1st_degree_family_history'].copy()\n",
    "    df_new.loc[~df_new['PRS_Q'].isna(),'1st_degree_family_history_'] = np.nan\n",
    "    df_new['DepressionAnxiety_'] = df_new[['updrs_i_depression_cat','DepressionAnxiety']].max(axis=1)\n",
    "    df_new['constipation_'] = df_new[['updrs_i_constipation_cat','constipation']].max(axis=1)\n",
    "    df_new['ExcessiveDaytimeSleepiness_'] = df_new[['updrs_i_daytimesleepiness_cat','ExcessiveDaytimeSleepiness']].max(axis=1)\n",
    "    df_new['OrthostaticHypotension_'] = df_new[['updrs_i_OH_cat','OrthostaticHypotension']].max(axis=1)\n",
    "    df_new['UrinaryDysfunction_'] = df_new[['updrs_i_urinary_cat','UrinaryDysfunction']].max(axis=1)\n",
    "    df_new['ErectileDysfunction_'] = df_new[['scopa_aut_erectileDysfunction_cat','ErectileDysfunction']].max(axis=1)\n",
    "    print(df_new.shape[0] - df_new[['male','pesticide_exposure','caffeine','never_smoke','previous_smoke',\n",
    "                                  'current_smoke','rbd_psgproven','rbd_test',#'HYPOSMIA',\n",
    "                                  'constipation_','DepressionAnxiety_','ExcessiveDaytimeSleepiness_','1st_degree_family_history_',\n",
    "                                 #'positiveDaT',\n",
    "                                    'UPDRS>6','ErectileDysfunction_','UrinaryDysfunction_',\n",
    "                                 'OrthostaticHypotension_','PRS_highQ','PRS_lowQ','DiabetesII']].isna().sum())\n",
    "    #df_new['PRS_Q'] = pd.qcut(df_new['PRS'],q=4,labels=['lowQ','midQlow','midQhigh','highQ'])\n",
    "    #df_new['PRS_highQ'] = (df_new['PRS_Q']=='highQ').astype(int)\n",
    "    #df_new['PRS_lowQ'] = (df_new['PRS_Q']=='lowQ').astype(int)\n",
    "    #low physical activity is defined as less than 1 hour per week of activity causing increased respiratory or heart rate or sweating.\n",
    "    #df_new['physical_inactivity'] = (df_new['total_MVPA_hours']/2/60 < 1).astype(int) # convert 30sec into hours\n",
    "    # low defined as <5mg/dL and high as >5.6mg/dl only in men\n",
    "    #df_new['urate_low'] = ((df_new['Urate']/59.48) <5).astype(int) * df_new['male'] #conversion factor as in UKBB given as umol/L\n",
    "    #df_new['urate_high'] = ((df_new['Urate']/59.48) >5.6).astype(int) * df_new['male'] #conversion factor as in UKBB given as umol/L\n",
    "    #TODOdf_new['cognitive_deficit']\n",
    "    # convert\n",
    "    intersect = np.intersect1d(df_new.columns,formula.index)\n",
    "    print(intersect)\n",
    "    df_new = df_new[intersect]\n",
    "    df_new = df_new.replace([0,1],['no','yes'])\n",
    "    df_new = pd.get_dummies(df_new)\n",
    "    # multiply\n",
    "    df_new['LR'] = 1\n",
    "    for column in intersect:\n",
    "        try:\n",
    "            yes = (df_new[f'{column}_yes'] * formula.loc[column,'yes']).replace(0,1)\n",
    "        except:\n",
    "            yes = pd.Series(1,index=df_new.index)\n",
    "        try:\n",
    "            no  = (df_new[f'{column}_no'] * formula.loc[column,'no']).replace(0,1)\n",
    "        except:\n",
    "            no = pd.Series(1,index=df_new.index)\n",
    "        df_new['LR'] *= yes\n",
    "        df_new['LR'] *= no\n",
    "    return df_new,formula\n",
    "\n",
    "def get_post_prob(df,age='age'):\n",
    "    d = {range(0, 55): 1000, range(55, 60): 515, range(60, 65): 300, range(65, 70): 180, \n",
    "         range(70, 75): 155, range(75, 80): 110, range(80,130): 95}\n",
    "    df['PD_thresh'] = round(df[age]).apply(lambda x: next((v for k, v in d.items() if x in k), 0))\n",
    "    df['PD'] = (df['LR'] >= df['PD_thresh']).astype(int)\n",
    "    odds = ((df['prior']/100)/(1-(df['prior']/100))) * df['LR']\n",
    "    df['prob_PD'] = odds/(1+odds)\n",
    "    return df"
   ]
  },
  {
   "cell_type": "code",
   "execution_count": null,
   "metadata": {},
   "outputs": [],
   "source": [
    "prod = prod.set_index('participant')"
   ]
  },
  {
   "cell_type": "code",
   "execution_count": null,
   "metadata": {},
   "outputs": [],
   "source": [
    "# calculate probability of having prodromal PD\n",
    "for name,kind in zip(['Heinzel et al., 2019','Berg et al., 2015'],['Heinzel','Berg']):\n",
    "    if kind=='Heinzel':\n",
    "        df = get_prior(prod,age='current_age')\n",
    "        dfcalc,formula = calculate_LR(df,kind=kind)\n",
    "        df = pd.concat([df,dfcalc],axis=1)\n",
    "        df = get_post_prob(df,age='current_age')\n",
    "        #for v in ['male', 'pesticide_exposure', 'rbd_psgproven', 'rbd_test', 'HYPOSMIA', 'positiveDaT','constipation_','ErectileDysfunction_','UrinaryDysfunction_','OrthostaticHypotension_',\n",
    "        # 'ExcessiveDaytimeSleepiness_','DepressionAnxiety_']:\n",
    "        #    df[v] = df[[f'{v}_no',f'{v}_yes']].idxmax(axis=1).replace([f'{v}_no',f'{v}_yes'],[0,1])\n",
    "        #    df.loc[df[[f'{v}_no',f'{v}_yes']].sum(axis=1)==0,v] = np.nan\n",
    "        #print(df.loc[71679,np.hstack([formula.index,'prob_PD','LR','PD','prior','current_age'])])\n",
    "        df.to_csv(f'/scratch/c.c21013066/data/ppmi/analyses/prodromal/{kind}_Yan2024_>1.csv')\n",
    "        fig = plt.figure(figsize=(7,5))\n",
    "        #plots.plot_context()\n",
    "        ax = sns.histplot(data=df,hue='diagnosis',x='prob_PD')\n",
    "        ax.set_xlabel(f'Probability of Prodromal PD ({name})');\n",
    "        plt.show()\n",
    "        fig = plt.figure(figsize=(7,5))\n",
    "        #plots.plot_context()\n",
    "        ax = sns.boxplot(data=df,x='diagnosis',y='prob_PD')\n",
    "        ax.set_ylabel(f'Probability of Prodromal PD ({name})');\n",
    "        plt.show()"
   ]
  },
  {
   "cell_type": "code",
   "execution_count": null,
   "metadata": {},
   "outputs": [],
   "source": [
    "fig = plt.figure(figsize=(7,5))\n",
    "#plots.plot_context()\n",
    "ax = sns.histplot(data=df,hue='diagnosis',x='prob_PD')\n",
    "ax.set_xlabel('Probability of Prodromal PD');"
   ]
  },
  {
   "cell_type": "code",
   "execution_count": null,
   "metadata": {},
   "outputs": [],
   "source": [
    "fig = plt.figure(figsize=(7,5))\n",
    "#plots.plot_context()\n",
    "ax = sns.boxplot(data=df,x='diagnosis',y='prob_PD')\n",
    "ax.set_ylabel('Probability of Prodromal PD');"
   ]
  },
  {
   "cell_type": "markdown",
   "metadata": {},
   "source": [
    "# Prodromal Cohort features"
   ]
  },
  {
   "cell_type": "code",
   "execution_count": null,
   "metadata": {},
   "outputs": [],
   "source": [
    "df = pd.read_csv(f'/scratch/c.c21013066/data/ppmi/analyses/prodromal/raw_prod_Yan2024_>1.csv.csv',index_col=0)"
   ]
  },
  {
   "cell_type": "code",
   "execution_count": null,
   "metadata": {},
   "outputs": [],
   "source": [
    "prod = df[df['diagnosis']=='prod']"
   ]
  },
  {
   "cell_type": "code",
   "execution_count": null,
   "metadata": {},
   "outputs": [],
   "source": [
    "# percentage people with trait\n",
    "# rapid eye movement behavioural sleep disorder (RBD),\n",
    "# olfactory loss, LRRK2, GBA, SNCA, Parkin, Pink1\n",
    "# with or without dopamine transporter (DAT) deficiency\n",
    "traits = ['GBA','SNCA','LRRK2','HYPOSMIA_yes','rbd_psgproven_yes','positiveDaT_yes']\n",
    "trait_names = ['GBA','SNCA','LRRK2','olfactory\\nloss','RBD','positive\\nDaTscan']\n",
    "prod[traits].describe()"
   ]
  },
  {
   "cell_type": "code",
   "execution_count": null,
   "metadata": {},
   "outputs": [],
   "source": [
    "prod.loc[prod[traits].sum(axis=1)>2,traits]"
   ]
  },
  {
   "cell_type": "code",
   "execution_count": null,
   "metadata": {},
   "outputs": [],
   "source": [
    "perc = prod[traits].agg(['mean']).melt()\n",
    "perc"
   ]
  },
  {
   "cell_type": "code",
   "execution_count": null,
   "metadata": {},
   "outputs": [],
   "source": [
    "prod['mutation'] = prod[['SNCA','GBA','LRRK2']].max(axis=1)"
   ]
  },
  {
   "cell_type": "code",
   "execution_count": null,
   "metadata": {},
   "outputs": [],
   "source": [
    "fig = plt.figure(figsize=(8,5))\n",
    "plot_context()\n",
    "perc = prod[traits].agg(['mean']).melt()\n",
    "ax = sns.barplot(perc,x='variable',y='value',color='gray')\n",
    "ax.set_ylabel('fraction')\n",
    "ax.set_xlabel('prodromal group criterium')\n",
    "ax.set_xticklabels(trait_names)\n",
    "plt.savefig('/scratch/c.c21013066/images/paper/digitalPPMI/barplot_prodromal_criteria.png',bbox_inches='tight',dpi=300)\n",
    "plt.savefig('/scratch/c.c21013066/images/paper/digitalPPMI/barplot_prodromal_criteria.pdf',bbox_inches='tight',dpi=300)"
   ]
  },
  {
   "cell_type": "code",
   "execution_count": null,
   "metadata": {},
   "outputs": [],
   "source": [
    "fig = plt.figure(figsize=(8,5))\n",
    "plot_context()\n",
    "ax = sns.barplot(prod[traits].melt(),x='variable',y='value',color='gray')\n",
    "ax.set_ylabel('fraction')\n",
    "ax.set_xlabel('prodromal group criterium')\n",
    "ax.set_xticklabels(trait_names)\n",
    "plt.savefig('/scratch/c.c21013066/images/paper/digitalPPMI/barplot_prodromal_criteria.png',bbox_inches='tight',dpi=300)\n",
    "plt.savefig('/scratch/c.c21013066/images/paper/digitalPPMI/barplot_prodromal_criteria.pdf',bbox_inches='tight',dpi=300)"
   ]
  },
  {
   "cell_type": "code",
   "execution_count": null,
   "metadata": {},
   "outputs": [],
   "source": [
    "# Define the sets\n",
    "rbd_yes = set(prod[prod['rbd_psgproven_yes'] == 1].index)\n",
    "rbd_no = set(prod[prod['rbd_psgproven_no'] == 1].index)\n",
    "datscan_yes = set(prod[prod['mutation'] == 1].index)\n",
    "datscan_no = set(prod[prod['mutation'] == 0].index)\n",
    "hyposmia_yes = set(prod[prod['HYPOSMIA_yes'] == 1].index)\n",
    "hyposmia_no = set(prod[prod['HYPOSMIA_no'] == 1].index)\n",
    "\n",
    "from matplotlib_venn import venn3\n",
    "# Create the Venn diagram\n",
    "venn3([rbd_yes, datscan_yes, hyposmia_yes], ('RBD', 'mendelian mutation', 'Hyposmia'))\n",
    "plt.show()"
   ]
  }
 ],
 "metadata": {
  "kernelspec": {
   "display_name": "Python 3",
   "language": "python",
   "name": "python3"
  },
  "language_info": {
   "codemirror_mode": {
    "name": "ipython",
    "version": 3
   },
   "file_extension": ".py",
   "mimetype": "text/x-python",
   "name": "python",
   "nbconvert_exporter": "python",
   "pygments_lexer": "ipython3",
   "version": "3.6.8"
  }
 },
 "nbformat": 4,
 "nbformat_minor": 5
}
