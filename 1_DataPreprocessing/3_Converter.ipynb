{
 "cells": [
  {
   "cell_type": "code",
   "execution_count": null,
   "metadata": {},
   "outputs": [],
   "source": [
    "import pandas as pd\n",
    "import numpy as np\n",
    "\n",
    "import seaborn as sns\n",
    "import pylab as plt\n",
    "\n",
    "from importlib import reload\n",
    "from functools import reduce\n",
    "import glob\n",
    "import datetime\n",
    "import re\n",
    "\n",
    "import os\n",
    "import sys\n",
    "sys.path.insert(1,'../scripts')\n",
    "import utils\n",
    "import plots\n",
    "sys.path.insert(1,'../../phenotype')\n",
    "import _loaders\n",
    "import _preprocess\n",
    "\n",
    "import pickle"
   ]
  },
  {
   "cell_type": "code",
   "execution_count": null,
   "metadata": {},
   "outputs": [],
   "source": [
    "data_path = '/scratch/c.c21013066/data/ppmi'\n",
    "path = '/scratch/c.c21013066/data/ppmi/accelerometer'"
   ]
  },
  {
   "cell_type": "code",
   "execution_count": null,
   "metadata": {},
   "outputs": [],
   "source": [
    "demo = pd.read_csv(f'{data_path}/phenotypes2021/demographics.csv',parse_dates=['date_birth'])\n",
    "behavior = _loaders.load_behavior(f'{data_path}/phenotypes2021')\n",
    "datscan = _loaders.load_datscan_all(f'{data_path}/phenotypes2021')\n",
    "genotypes = _loaders.load_genotypes(f'{data_path}/phenotypes2021')\n",
    "prodromal = _loaders.load_prodromalBerg(f'{data_path}/phenotypes2021')\n",
    "merged, ambulatory, step, sleep, pulse, pulsevar = utils.load_timeseries(demo,path)"
   ]
  },
  {
   "cell_type": "code",
   "execution_count": null,
   "metadata": {},
   "outputs": [],
   "source": [
    "data_path = '/scratch/c.c21013066/data/ppmi'\n",
    "biospecimen = pd.read_csv(f'{data_path}/phenotypes2021/biospecimen_SAA_all_clean.csv',index_col=0)\n",
    "bsp_rest = pd.read_csv(f'{data_path}/phenotypes2021/biospecimen_clean_add.csv',index_col=0).drop(columns=['index'])\n",
    "biospecimen_all = pd.merge(biospecimen.iloc[:,:-1],bsp_rest,on=['participant','date','visit'],how='outer')\n",
    "biospecimen_all = biospecimen_all[biospecimen_all['visit']=='BL']"
   ]
  },
  {
   "cell_type": "code",
   "execution_count": null,
   "metadata": {},
   "outputs": [],
   "source": [
    "demo = pd.read_csv(f'{data_path}/phenotypes2021/demographics.csv',parse_dates=['date_birth'])\n",
    "biospfeatures = biospecimen_all.columns[-7:]\n",
    "biospecimen = pd.merge(biospecimen_all,demo,on='participant',how='left')\n",
    "biospecimen = _preprocess.date_to_datetime(biospecimen)\n",
    "biospecimen = _preprocess.get_visit_age(biospecimen)\n",
    "biospecimen = biospecimen.sort_values(['participant','date'])\n",
    "biospecimen_last = biospecimen.groupby('participant').last()\n",
    "datscan_ = pd.read_csv(f'{data_path}/phenotypes2021/datscan_all_clean.csv',index_col=0)\n",
    "datscan_ = pd.merge(datscan_,demo,on='participant',how='left')\n",
    "datscan_ = _preprocess.date_to_datetime(datscan_)\n",
    "datscan_ = _preprocess.get_visit_age(datscan_)\n",
    "datscan_ = _preprocess.get_DatScan_IDPs(datscan_)\n",
    "datfeatures = ['datscan_caudate_mean', 'datscan_putamen_mean',\n",
    "       'datscan_mean','datscan_asymmetry','datscan_caudate_asymmetry', 'datscan_putamen_asymmetry']\n",
    "datscan_ = datscan_.sort_values(['participant','date'])\n",
    "datscan_last = datscan_.groupby('participant').last()\n",
    "datscan_bl = datscan_.groupby('participant').first()\n",
    "datscan = _preprocess.get_DAT_deficit(datscan_)\n",
    "dat_last = datscan.dropna(subset=['putamen_min'],how='any',axis='rows').sort_values('date').groupby('participant').last()\n",
    "bio = pd.merge(biospecimen_last,datscan_,right_index=True,left_index=True,suffixes=['_bio','_dat'])\n",
    "bio = _preprocess.match_only_nearest_df(datscan_.reset_index(),biospecimen.reset_index(),merge='visit_age',tolerance=2,suffixes=['','_bio'])"
   ]
  },
  {
   "cell_type": "code",
   "execution_count": null,
   "metadata": {},
   "outputs": [],
   "source": [
    "prodromal = pd.merge(dat_last.reset_index()[['participant','dat_deficit','putamen_min']],prodromal,on='participant',how='right',suffixes=['','_visual'])\n",
    "prodromal['dat_deficit_visual'] = prodromal['dat_deficit_visual'].replace(['negative','positive'],[0,1])\n",
    "behprod = pd.merge(behavior.reset_index().drop(columns=['rbd']),prodromal,left_on=['participant','visit'],right_on=['participant','phenoconverted_visit'],how='right')\n",
    "behprod.loc[behprod['phenoconverted']==1,'phenoconverted_date'] = behprod.loc[behprod['phenoconverted']==1,'date']\n",
    "prod = pd.merge(demo,genotypes,on='participant')\n",
    "prod = pd.merge(prod,behprod[np.hstack([prodromal.columns,'phenoconverted_date'])],on='participant')\n",
    "prod['phenoconverted_age'] = (prod['phenoconverted_date'] - prod['date_birth'])/np.timedelta64(1,\"Y\")"
   ]
  },
  {
   "cell_type": "code",
   "execution_count": null,
   "metadata": {},
   "outputs": [],
   "source": [
    "prod.groupby('diagnosis')[['dat_deficit_visual','dat_deficit']].agg(['mean','size','count'])"
   ]
  },
  {
   "cell_type": "code",
   "execution_count": null,
   "metadata": {},
   "outputs": [],
   "source": [
    "path = '/rds/general/user/aschalka/home/data/ppmi/accelerometer'\n",
    "f = utils.read_extracted_features(f'{path}/extracted_features',names=['stepcount.csv','ambulatory.csv','prv.csv','pulserate.csv','sleepmetrics2.csv'])"
   ]
  },
  {
   "cell_type": "code",
   "execution_count": null,
   "metadata": {},
   "outputs": [],
   "source": [
    "unique = np.unique(f.columns[1:].str.split('__', n=1).str[1])\n",
    "pd.Series(unique)\n",
    "pd.Series(unique).to_csv(f'{path}/tsfresh_features.csv') # list of features extracted with tsfresh 783 per timeseries"
   ]
  },
  {
   "cell_type": "code",
   "execution_count": null,
   "metadata": {},
   "outputs": [],
   "source": [
    "for i,mod in enumerate([ambulatory,step,sleep,pulse,pulsevar]):\n",
    "    age = mod.groupby('subject')[['age_accelerometry']].agg(['min','max','mean','median'])\n",
    "    if i == 0:\n",
    "        ages = age.copy(deep=True)\n",
    "    else:\n",
    "        ages = pd.concat([ages,age])\n",
    "        ages = ages[~ages.index.duplicated(keep='first')]\n",
    "ages.columns = ['_'.join(col) for col in ages.columns.values]"
   ]
  },
  {
   "cell_type": "code",
   "execution_count": null,
   "metadata": {},
   "outputs": [],
   "source": [
    "prod.to_csv('/scratch/c.c21013066/data/ppmi/analyses/prodromal/converterInfo.csv')"
   ]
  }
 ],
 "metadata": {
  "kernelspec": {
   "display_name": "Python 3",
   "language": "python",
   "name": "python3"
  },
  "language_info": {
   "codemirror_mode": {
    "name": "ipython",
    "version": 3
   },
   "file_extension": ".py",
   "mimetype": "text/x-python",
   "name": "python",
   "nbconvert_exporter": "python",
   "pygments_lexer": "ipython3",
   "version": "3.6.8"
  }
 },
 "nbformat": 4,
 "nbformat_minor": 2
}
