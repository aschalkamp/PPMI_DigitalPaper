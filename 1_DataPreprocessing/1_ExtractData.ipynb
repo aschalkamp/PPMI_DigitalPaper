{
 "cells": [
  {
   "cell_type": "code",
   "execution_count": null,
   "metadata": {},
   "outputs": [],
   "source": [
    "import numpy as np\n",
    "import pandas as pd\n",
    "import seaborn as sns\n",
    "import pylab as plt\n",
    "import datetime\n",
    "import os\n",
    "import glob\n",
    "\n",
    "# packages burrowed and adapted from pypmi\n",
    "import sys\n",
    "sys.path.insert(1, '/scratch/c.c21013066/PPMI_DataPreparation/phenotype/')\n",
    "import _info2021\n",
    "import _utils\n",
    "import _loaders\n",
    "import _loadersSubitems\n",
    "import _thresholds2021 as thr\n",
    "\n",
    "from importlib import reload"
   ]
  },
  {
   "cell_type": "code",
   "execution_count": null,
   "metadata": {},
   "outputs": [],
   "source": [
    "path = \"/scratch/c.c21013066/data/ppmi/phenotypes2021\""
   ]
  },
  {
   "cell_type": "code",
   "execution_count": null,
   "metadata": {},
   "outputs": [],
   "source": [
    "demographics = _loaders.load_demographics(path=path)\n",
    "# check for unreasonable data in demographics\n",
    "# go through columns and check data\n",
    "reload(thr)\n",
    "demographics_clean = demographics.copy(deep=True)\n",
    "\n",
    "for col in demographics.columns[1:]:\n",
    "    print(col)\n",
    "    info = thr.DEMOGRAPHIC_INFO[col]\n",
    "    print('    Are there NaN values? {}'.format(demographics_clean[col].isna().sum()))\n",
    "    if info['scale_level'] == 'categorical': # check if only allowed categories used\n",
    "        if col == 'diagnosis':\n",
    "            print('    How many dropped due to no category? {}'.format(demographics_clean[col].isna().sum()))\n",
    "            # we can only use data of people who belong to a category\n",
    "            demographics_clean = demographics_clean.dropna(axis='rows',how='any',subset=[col])\n",
    "        assert all(elem in info['categories']  for elem in set(demographics_clean[col].dropna()))\n",
    "    if info['scale_level'] == 'date': # check if date in range\n",
    "        # need brithdate information\n",
    "        if col == 'date_birth':\n",
    "            print('    How many dropped due to no category? {}'.format(demographics_clean[col].isna().sum()))\n",
    "            # we can only use data of people who belong to a category\n",
    "            demographics_clean = demographics_clean.dropna(axis='rows',how='any',subset=[col])\n",
    "        assert all(demographics_clean[col].dropna() >= info['min']), 'min exceeds bounds {}'.format(demographics_clean[col].min())\n",
    "        assert all(demographics_clean[col].dropna() <= info['max']), 'max exceeds bounds {}'.format(demographics_clean[col].max())\n",
    "    if info['scale_level'] == 'binomial':\n",
    "        assert  set(demographics_clean[col].dropna()) == set(info['categories'])\n",
    "    if info['scale_level'] == 'normal':\n",
    "        assert all(demographics_clean[col].dropna() >= info['min']), 'min exceeds bounds {}'.format(demographics_clean[col].min())\n",
    "        assert all(demographics_clean[col].dropna() <= info['max']), 'max exceeds bounds {}'.format(demographics_clean[col].max())\n",
    "demographics_clean.to_csv(f'{path}/demographics_clean.csv')"
   ]
  },
  {
   "cell_type": "markdown",
   "metadata": {},
   "source": [
    "# Digital features\n",
    "\n",
    "in the scripts folder, run_feature_extraction.sh calls feature_extraction.py which uses tsfresh on the timeseries features provided by Verily. That creates the extracted_features folder."
   ]
  }
 ],
 "metadata": {
  "kernelspec": {
   "display_name": "Python 3",
   "language": "python",
   "name": "python3"
  },
  "language_info": {
   "codemirror_mode": {
    "name": "ipython",
    "version": 3
   },
   "file_extension": ".py",
   "mimetype": "text/x-python",
   "name": "python",
   "nbconvert_exporter": "python",
   "pygments_lexer": "ipython3",
   "version": "3.6.8"
  }
 },
 "nbformat": 4,
 "nbformat_minor": 2
}
