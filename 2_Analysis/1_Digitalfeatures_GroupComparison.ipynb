{
 "cells": [
  {
   "cell_type": "code",
   "execution_count": null,
   "metadata": {},
   "outputs": [],
   "source": [
    "import pandas as pd\n",
    "import numpy as np\n",
    "from scipy import stats\n",
    "from statsmodels import stats as sm_stats\n",
    "from statsmodels.stats.multitest import fdrcorrection\n",
    "import pingouin as pg\n",
    "\n",
    "import seaborn as sns\n",
    "import pylab as plt\n",
    "from statannotations.Annotator import Annotator\n",
    "\n",
    "from importlib import reload\n",
    "from functools import reduce\n",
    "import datetime\n",
    "import re\n",
    "\n",
    "import sys\n",
    "sys.path.insert(1,'../scripts')\n",
    "import utils\n",
    "import plots"
   ]
  },
  {
   "cell_type": "code",
   "execution_count": null,
   "metadata": {},
   "outputs": [],
   "source": [
    "data_path = '/rds/general/user/aschalka/home/data/ppmi'\n",
    "path = '/rds/general/user/aschalka/home/data/ppmi/accelerometer'\n",
    "img_path = '/rds/general/user/aschalka/home/images/paper/prodromalPPMI'"
   ]
  },
  {
   "cell_type": "code",
   "execution_count": null,
   "metadata": {},
   "outputs": [],
   "source": [
    "merged = pd.read_csv(f'{path}/residuals.csv',index_col=0) # created by scripts/run_feature_extraction.sh\n",
    "converters = pd.read_csv('/rds/general/user/aschalka/home/data/ppmi/analyses/prodromal/converterInfo.csv')\n",
    "converters = converters[converters['phenoconverted']==1].groupby('participant').first().index"
   ]
  },
  {
   "cell_type": "code",
   "execution_count": null,
   "metadata": {},
   "outputs": [],
   "source": [
    "predictors_res = merged.filter(regex='_residual').columns\n",
    "labels = pd.Series(np.hstack([np.repeat('physical activity',2),np.repeat('sleep',8),np.repeat('vital',4)]),index=predictors_res)\n",
    "color_map = dict(zip(np.hstack([np.arange(8),np.unique(labels)]),sns.color_palette('deep')))\n",
    "color_map2 = dict(zip(np.unique(labels),sns.color_palette('bright')))"
   ]
  },
  {
   "cell_type": "code",
   "execution_count": null,
   "metadata": {},
   "outputs": [],
   "source": [
    "clean = merged[merged['diagnosis'].isin(['pd','hc','prod'])]\n",
    "# remove converters\n",
    "clean = clean.drop(index=converters)"
   ]
  },
  {
   "cell_type": "code",
   "execution_count": null,
   "metadata": {},
   "outputs": [],
   "source": [
    "clean['male sex'] = clean['gender'].replace(['f','m'],[0,1])\n",
    "clean = clean.dropna(subset=predictors_res,how='all')\n",
    "print(clean.groupby('diagnosis')[['male sex','age_accelerometry_mean']].agg(['mean','std','size']).dropna().loc[['hc','pd','prod']].to_latex())"
   ]
  },
  {
   "cell_type": "code",
   "execution_count": null,
   "metadata": {},
   "outputs": [],
   "source": [
    "clean.groupby(['diagnosis','male sex'])[['age_accelerometry_mean']].agg(['mean','std','size'])"
   ]
  },
  {
   "cell_type": "code",
   "execution_count": null,
   "metadata": {},
   "outputs": [],
   "source": [
    "pg.ttest(clean.loc[clean['diagnosis']=='prod','age_accelerometry_mean'],clean.loc[clean['diagnosis']=='pd','age_accelerometry_mean'])"
   ]
  },
  {
   "cell_type": "code",
   "execution_count": null,
   "metadata": {},
   "outputs": [],
   "source": [
    "\n",
    "clean = merged[merged['diagnosis'].isin(['pd','hc','prod'])]\n",
    "# remove converters\n",
    "clean = clean.drop(index=converters)\n",
    "ttests = pd.DataFrame(columns=pd.MultiIndex.from_product([predictors_res,['t','p','N1','N2']],names=['feature','statistic']),\n",
    "                      index=pd.MultiIndex.from_product([['hc','prod','pd'],['hc','prod','pd']],\n",
    "                                                              names = ['g1','g2']))\n",
    "\n",
    "fig, axes = plt.subplots(nrows=len(predictors_res)//5+1,ncols=5,figsize=(20,10))\n",
    "plots.plot_context()\n",
    "\n",
    "for ax,pred in zip(axes.flatten(),predictors_res):\n",
    "    predname = re.sub(r'_(\\w)', r' \\1', pred) # replace underscores with spaces\n",
    "    predname = re.sub(r' residual$', r'\\nresidual', predname)\n",
    "    print(predname)\n",
    "    sns.boxplot(y=pred,x='diagnosis',data=clean,ax=ax,order=['pd','prod','hc'])\n",
    "    thresh = 0.05/3\n",
    "    annot = [[2e-6, \"****\"], [2e-4, \"***\"], [2e-3, \"**\"], [thresh, \"*\"], [1, \"ns\"]]\n",
    "    box_pairs = []\n",
    "    ttest = pd.DataFrame(index=pd.MultiIndex.from_product([['hc','prod','pd'],['hc','prod','pd']],\n",
    "                                                              names = ['g1','g2']),columns=['t','p'])\n",
    "    for i,g1 in enumerate(['hc','prod','pd']):\n",
    "        for j,g2 in enumerate(['hc','prod','pd']):\n",
    "            if j>i:\n",
    "                t,p = stats.ttest_ind(clean[clean['diagnosis']==g1][pred].dropna(),\n",
    "                                      clean[clean['diagnosis']==g2][pred].dropna())\n",
    "                ttest.loc[(g1,g2),'t'] = t\n",
    "                ttest.loc[(g1,g2),'p'] = p\n",
    "                ttests.loc[(g1,g2),(pred,'t')] = t\n",
    "                ttests.loc[(g1,g2),(pred,'p')] = p\n",
    "                ttests.loc[(g1,g2),(pred,'N1')] = clean[clean['diagnosis']==g1][pred].dropna().shape[0]\n",
    "                ttests.loc[(g1,g2),(pred,'N2')] = clean[clean['diagnosis']==g2][pred].dropna().shape[0]\n",
    "    ttest = ttest.dropna(axis='rows',how='all')\n",
    "    sign = ttest[ttest['p']<thresh]\n",
    "    for key,row in sign.iterrows():\n",
    "        box_pairs.append((key[0],key[1]))\n",
    "    if len(box_pairs)>0:\n",
    "        ax, test_results = add_stat_annotation(ax, data=clean, x='diagnosis', y=pred,order=['pd','prod','hc'],\n",
    "                                       box_pairs=box_pairs,\n",
    "                                       test='t-test_ind', text_format='star', loc='outside', verbose=2,comparisons_correction=None,\n",
    "                                          pvalue_thresholds=annot)\n",
    "    ax.set_ylabel(predname,color=color_map[labels[pred]])\n",
    "    N_diagnosis = clean.dropna(subset=[pred]).groupby(['diagnosis']).size()\n",
    "    N_diagnosis = N_diagnosis.loc[['pd','prod','hc']]\n",
    "    plots.add_median_labels(ax,N_diagnosis,fmt=\"%d\",remove=len(box_pairs))\n",
    "\n",
    "#axes[-1, -1].remove()\n",
    "#legend_ax = fig.add_subplot(224)\n",
    "\n",
    "# Plot dummy data in the legend subplot to create the custom legend\n",
    "cmap = {k: v for k, v in color_map.items() if k in ['physical activity', 'sleep', 'vital']}\n",
    "for label, color in cmap.items():\n",
    "    axes[-1,-1].plot([], [], color=color, label=f'{label}', linewidth=10)\n",
    "\n",
    "# Hide the legend subplot frame and ticks\n",
    "axes[-1,-1].set_frame_on(False)\n",
    "axes[-1,-1].tick_params(left=False, right=False, top=False, bottom=False)\n",
    "axes[-1,-1].set_xticks([])\n",
    "axes[-1,-1].set_yticks([])\n",
    "\n",
    "# Create the legend in the bottom right corner\n",
    "axes[-1,-1].legend(loc='lower right', frameon=False)\n",
    "        \n",
    "plt.tight_layout()\n",
    "#plt.savefig('/scratch/c.c21013066/images/ppmi/studywatch/mean_digital_boxplot_diag_residual.png',dpi=300,bbox_inches='tight')\n",
    "#plt.savefig('/scratch/c.c21013066/images/ppmi/studywatch/mean_digital_boxplot_diag_residual.pdf',dpi=300,bbox_inches='tight')"
   ]
  },
  {
   "cell_type": "code",
   "execution_count": null,
   "metadata": {},
   "outputs": [],
   "source": [
    "ttests.to_csv('/scratch/c.c21013066/data/ppmi/analyses/studywatch/digitalmeanresid_groupdiff.csv')"
   ]
  },
  {
   "cell_type": "code",
   "execution_count": null,
   "metadata": {},
   "outputs": [],
   "source": [
    "prodromal = pd.read_csv(f'{data_path}/analyses/prodromal/Heinzel_Yan2024_>1.csv').set_index('participant')\n",
    "\n",
    "digprod = pd.merge(prodromal,merged,right_index=True,left_index=True,how='outer',suffixes=['','_drop'])\n",
    "digprod = digprod.drop(columns=digprod.filter(regex='_drop').columns).reset_index().rename(columns={'index':'participant'})\n",
    "\n",
    "saa_positive = pd.read_csv(f'{data_path}/phenotypes2021/biospecimen_SAA_all_clean.csv')\n",
    "saa_positive['SAA_positive'] = saa_positive['SAA_positive'].replace([0,1],['no','yes'])\n",
    "saa_positive = pd.concat([saa_positive,pd.get_dummies(saa_positive['SAA_positive'],prefix='SAA')],axis=1)\n",
    "digprod = pd.merge(digprod,saa_positive,on='participant',how='outer')\n",
    "\n",
    "digprod['positiveDaT_yes'] = digprod['dat_deficit_visual']\n",
    "\n",
    "traits = ['GBA','SNCA','LRRK2','HYPOSMIA_yes','rbd_psgproven_yes','positiveDaT_yes','SAA_yes']\n",
    "trait_names = ['GBA','SNCA','LRRK2','hyposmia','RBD','positive\\nDaTscan','positive\\nSAA']\n",
    "digprod = digprod.set_index('participant')\n",
    "df = digprod[digprod['diagnosis'].isin(['pd','hc'])]\n",
    "dat = digprod.loc[converters]\n",
    "dat['diagnosis'] = 'converted'\n",
    "df = pd.concat([df,dat[dat['diagnosis']=='converted']])\n",
    "dat = digprod.loc[digprod['diagnosis']=='prod']\n",
    "dat = dat.drop(index=converters)\n",
    "df = pd.concat([df,dat[dat['diagnosis']=='prod']])\n",
    "dat['diagnosis'] = 'converted'\n",
    "df = pd.concat([df,dat[dat['diagnosis']=='converted']])\n",
    "for name,trait in zip(trait_names,traits):\n",
    "    dat = digprod[(digprod['diagnosis'] == 'prod') & (digprod[trait] == 1.0)]\n",
    "\n",
    "    # Then modify the 'diagnosis' column based on those temporary columns\n",
    "    dat['diagnosis'] = name\n",
    "    df = pd.concat([df,dat[dat['diagnosis']==name]])"
   ]
  },
  {
   "cell_type": "code",
   "execution_count": null,
   "metadata": {},
   "outputs": [],
   "source": [
    "df['male sex'] = df['gender'].replace(['f','m'],[0,1])\n",
    "#df = df.dropna(subset=predictors_res,how='all')\n",
    "print(df.dropna(subset='age_accelerometry_mean').groupby('diagnosis')[['male sex','age_accelerometry_mean']].agg(['mean','std','size']).dropna().loc[['hc','pd','prod','LRRK2','GBA','hyposmia','RBD','positive\\nDaTscan',\n",
    "                                                                                                             'positive\\nSAA']].to_latex())"
   ]
  },
  {
   "cell_type": "code",
   "execution_count": null,
   "metadata": {},
   "outputs": [],
   "source": [
    "table = df.dropna(subset='age_accelerometry_mean').groupby('diagnosis')[['male sex','age_accelerometry_mean']].agg(['mean','std','size']).dropna().loc[['hc','pd','prod','LRRK2','GBA','hyposmia','RBD','positive\\nDaTscan',\n",
    "                                                                                                             'positive\\nSAA']]"
   ]
  },
  {
   "cell_type": "code",
   "execution_count": null,
   "metadata": {},
   "outputs": [],
   "source": [
    "df.dropna(subset='age_accelerometry_mean').groupby('diagnosis')[['male sex','age_accelerometry_mean']].agg(['mean','std','count']).dropna().loc[['hc','pd','prod','LRRK2','GBA','hyposmia','RBD','positive\\nDaTscan',\n",
    "                                                                                                             'positive\\nSAA']].to_csv(f'{data_path}/analyses/prodromal/demographics.csv')"
   ]
  },
  {
   "cell_type": "code",
   "execution_count": null,
   "metadata": {},
   "outputs": [],
   "source": [
    "nona = df.dropna(subset='age_accelerometry_mean')\n",
    "pg.ttest(nona.loc[nona['diagnosis']=='prod','age_accelerometry_mean'],nona.loc[nona['diagnosis']=='pd','age_accelerometry_mean'])"
   ]
  },
  {
   "cell_type": "code",
   "execution_count": null,
   "metadata": {},
   "outputs": [],
   "source": [
    "fig, axes = plt.subplots(nrows=len(predictors_res)//4+1,ncols=4,figsize=(18,20))\n",
    "plots.plot_context()\n",
    "ttests = pd.DataFrame(index=pd.MultiIndex.from_product([['hc','pd','prod','GBA','LRRK2','hyposmia','RBD','positive\\nDaTscan',\n",
    "                                                        'positive\\nSAA'],['pd','hc','prod',\n",
    "                                                                                                                                         'GBA','LRRK2','hyposmia',\n",
    "                                                                                                                                      'RBD','positive\\nDaTscan','positive\\nSAA']],\n",
    "                                                              names = ['g1','g2']),columns=pd.MultiIndex.from_product([predictors_res,['T','dof','alternative','p-val','CI95%','Cohen-d','BF10','power',\n",
    "                                                                                                                                      'FDR corrected p-val']],names=['marker','statistic']))\n",
    "\n",
    "for ax,pred in zip(axes.flatten(),predictors_res):\n",
    "    predname = re.sub(r'_(\\w)', r' \\1', pred)\n",
    "    predname = re.sub(r' residual$', r'\\nresidual', predname)\n",
    "    print(predname)\n",
    "    sns.boxplot(y=pred,x='diagnosis',data=df,ax=ax,order=['pd','hc','prod','GBA','LRRK2','hyposmia','RBD','positive\\nDaTscan','positive\\nSAA'])\n",
    "    thresh = 0.05/(2*len(['prod','GBA','LRRK2','hyposmia','RBD','positive\\nDaTscan',\n",
    "                                                        'positive\\nSAA']))\n",
    "    print(thresh)\n",
    "    sns.stripplot(y=pred,x='diagnosis',data=df,ax=ax,order=['pd','hc','prod','GBA','LRRK2','hyposmia','RBD','positive\\nDaTscan','positive\\nSAA'])\n",
    "    annot = [[3.6e-6, \"****\"], [3.6e-5, \"***\"], [3.6e-4, \"**\"], [thresh, \"*\"], [1, \"ns\"]]\n",
    "    box_pairs = []\n",
    "    ttest = pd.DataFrame(index=pd.MultiIndex.from_product([['hc','pd','prod','GBA','LRRK2','hyposmia','RBD','positive\\nDaTscan','positive\\nSAA'],['pd','hc','prod',\n",
    "                                                                                                                                         'GBA','LRRK2','hyposmia','RBD',\n",
    "                                                                                                                                         'positive\\nDaTscan','positive\\nSAA']],\n",
    "                                                              names = ['g1','g2']),columns=['T','dof','alternative','p-val','CI95%','Cohen-d','BF10','power','FDR corrected p-val'])\n",
    "    for i,g1 in enumerate(['pd','hc']):#,'GBA','LRRK2','olfactory\\nloss','RBD','positive\\nDaTscan','positive\\nSAA']):\n",
    "        for j,g2 in enumerate(['pd','hc','prod','GBA','LRRK2','hyposmia','RBD','positive\\nDaTscan','positive\\nSAA']):\n",
    "            if j>i:\n",
    "                t,p = stats.ttest_ind(df[df['diagnosis']==g1][pred].dropna(),\n",
    "                                      df[df['diagnosis']==g2][pred].dropna())\n",
    "                ttest.loc[(g1,g2),['T','dof','alternative','p-val','CI95%','Cohen-d','BF10','power']] =                 pg.ttest(df[df['diagnosis']==g1][pred].dropna(),\n",
    "                                      df[df['diagnosis']==g2][pred].dropna(),correction=False).values\n",
    "    ttest['FDR corrected p-val'] = fdrcorrection(ttest['p-val'], alpha=0.05, method='indep', is_sorted=False)[1]\n",
    "    ttests.loc[:,(pred,slice(None))] = ttest.values\n",
    "    sign = ttest[ttest['FDR corrected p-val']<0.05]\n",
    "    pvals = sign['FDR corrected p-val']\n",
    "    formatted_pvals = ['{:.2e}'.format(num) for num in pvals]\n",
    "    for key,row in sign.iterrows():\n",
    "        box_pairs.append((key[0],key[1]))\n",
    "    if len(box_pairs)>0:\n",
    "\n",
    "        annotator = Annotator(ax, box_pairs, data=df, x='diagnosis', y=pred,order=['pd','hc','prod','GBA','LRRK2','hyposmia','RBD','positive\\nDaTscan','positive\\nSAA'],\n",
    "                                      perform_stat_test=False)\n",
    "        annotator.configure(test=None, text_format='full', loc='inside',text_offset=0.5,\n",
    "                            verbose=2,comparisons_correction=None,line_offset=1.5,fontsize=12).set_pvalues(pvalues=pvals).set_custom_annotations(formatted_pvals)\n",
    "        annotator.annotate()\n",
    "    N_diagnosis = df.dropna(subset=[pred]).groupby(['diagnosis']).size()\n",
    "    N_diagnosis = N_diagnosis.loc[['pd','hc','prod','GBA','LRRK2','hyposmia','RBD','positive\\nDaTscan','positive\\nSAA']]\n",
    "    plots.add_median_labels(ax,N_diagnosis,fmt=\"%d\",remove=len(box_pairs))\n",
    "    ax.set_ylabel(predname,color=color_map2[labels[pred]])\n",
    "    ax.set_xlabel('')\n",
    "    ax.set_xticklabels(['PD','HC','at-risk','GBA','LRRK2','hyposmia','RBD','DaT+','SAA+'],rotation=90)\n",
    "    if pred==predictors_res[-1]:\n",
    "        pass\n",
    "    else:\n",
    "        ax.legend([],[],frameon=False)\n",
    "    ttests.loc[:,(pred,slice(None))] = ttest.values\n",
    "    ax.axvline(2.5,linestyle='--',color='k')\n",
    "\n",
    "cmap = {k: v for k, v in color_map2.items() if k in ['physical activity', 'sleep', 'vital']}\n",
    "for label, color in cmap.items():\n",
    "    axes[-1,-1].plot([], [], color=color, label=f'{label}', linewidth=10)\n",
    "\n",
    "axes[-1,-1].set_frame_on(False)\n",
    "axes[-1,-1].tick_params(left=False, right=False, top=False, bottom=False)\n",
    "axes[-1,-1].set_xticks([])\n",
    "axes[-1,-1].set_yticks([])\n",
    "axes[-1,-2].set_frame_on(False)\n",
    "axes[-1,-2].tick_params(left=False, right=False, top=False, bottom=False)\n",
    "axes[-1,-2].set_xticks([])\n",
    "axes[-1,-2].set_yticks([])\n",
    "\n",
    "axes[-1,-1].legend(loc='lower right', frameon=False)\n",
    "\n",
    "plt.tight_layout()\n",
    "plt.savefig(f'{img_path}/mean_digital_boxplot_diag_residual_prod_seqdata_Yan2024.png',dpi=300,bbox_inches='tight')\n",
    "plt.savefig(f'{img_path}/mean_digital_boxplot_diag_residual_prod_seqdata_yan2024.pdf',dpi=300,bbox_inches='tight')\n",
    "plt.show()"
   ]
  },
  {
   "cell_type": "code",
   "execution_count": null,
   "metadata": {},
   "outputs": [],
   "source": [
    "ttests.dropna().loc[('pd','hc'),(slice(None),['Cohen-d','FDR corrected p-val'])]"
   ]
  },
  {
   "cell_type": "code",
   "execution_count": null,
   "metadata": {},
   "outputs": [],
   "source": [
    "ttests['sleep_efficiency_residual'][['Cohen-d','FDR corrected p-val']].dropna()"
   ]
  },
  {
   "cell_type": "code",
   "execution_count": null,
   "metadata": {},
   "outputs": [],
   "source": [
    "fig = plt.figure(figsize=(10,5))\n",
    "plots.plot_context()\n",
    "\n",
    "for pred in ['sleep_efficiency_residual']:\n",
    "    ttest = ttests[pred]\n",
    "    predname = re.sub(r'_(\\w)', r' \\1', pred) # replace underscores with spaces\n",
    "    predname = re.sub(r' residual$', r'\\nresidual', predname)\n",
    "    print(predname)\n",
    "    ax=sns.boxplot(y=pred,x='diagnosis',data=df,order=['pd','hc','prod','GBA','LRRK2','hyposmia','RBD','positive\\nDaTscan','positive\\nSAA'])\n",
    "    sign = ttest[ttest['FDR corrected p-val']<0.05]\n",
    "    pvals = sign['FDR corrected p-val']\n",
    "    formatted_pvals = ['{:.2e}'.format(num) for num in pvals]\n",
    "    for key,row in sign.iterrows():\n",
    "        box_pairs.append((key[0],key[1]))\n",
    "    if len(box_pairs)>0:\n",
    "        annotator = Annotator(ax, box_pairs, data=df, x='diagnosis', y=pred,order=['pd','hc','prod','GBA','LRRK2','hyposmia','RBD','positive\\nDaTscan','positive\\nSAA'],\n",
    "                                      perform_stat_test=False)\n",
    "        annotator.configure(test=None, text_format='full', loc='outside',\n",
    "                            verbose=2,comparisons_correction=None,line_offset=0.5,fontsize=12).set_pvalues(pvalues=pvals).set_custom_annotations(formatted_pvals)\n",
    "        annotator.annotate()\n",
    "    N_diagnosis = df.dropna(subset=[pred]).groupby(['diagnosis']).size()\n",
    "    N_diagnosis = N_diagnosis.loc[['pd','hc','prod','GBA','LRRK2','hyposmia','RBD','positive\\nDaTscan','positive\\nSAA']]\n",
    "    plots.add_median_labels(ax,N_diagnosis,fmt=\"%d\",remove=len(box_pairs))\n",
    "    ax.set_ylabel(predname,color=color_map2[labels[pred]])\n",
    "    ax.set_xlabel('')\n",
    "    ax.set_xticklabels(['PD','HC','at-risk','GBA','LRRK2','hyposmia','RBD','DaT+','SAA+'],rotation=90)\n",
    "    if pred==predictors_res[-1]:\n",
    "        pass\n",
    "    else:\n",
    "        ax.legend([],[],frameon=False)\n",
    "    ax.axvline(2.5,linestyle='--',color='k')\n",
    "\n",
    "plt.savefig(f'{img_path}/mean_digital_boxplot_sleepeff.png',dpi=300,bbox_inches='tight')\n",
    "plt.savefig(f'{img_path}/mean_digital_boxplot_sleepeff.pdf',dpi=300,bbox_inches='tight')\n",
    "plt.show()"
   ]
  },
  {
   "cell_type": "code",
   "execution_count": null,
   "metadata": {},
   "outputs": [],
   "source": [
    "ttests.to_csv(f'{data_path}/analyses/studywatch/digitalmeanresid_groupdiff_prod_Yan2024.csv')"
   ]
  },
  {
   "cell_type": "code",
   "execution_count": null,
   "metadata": {},
   "outputs": [],
   "source": [
    "ttests = pd.read_csv(f'{data_path}/analyses/studywatch/digitalmeanresid_groupdiff_prod_Yan2024.csv',index_col=[0,1],header=[0,1])"
   ]
  },
  {
   "cell_type": "code",
   "execution_count": null,
   "metadata": {},
   "outputs": [],
   "source": [
    "ttests = ttests.dropna()"
   ]
  },
  {
   "cell_type": "code",
   "execution_count": null,
   "metadata": {},
   "outputs": [],
   "source": [
    "for feature in ttests.columns.levels[0]:\n",
    "    print(sm_stats.multitest.fdrcorrection(ttests[(feature,'p-val')], alpha=0.05, method='indep', is_sorted=False)[1])\n",
    "    ttests[(feature,'FRD corrected p-val')] = sm_stats.multitest.fdrcorrection(ttests[(feature,'p-val')], alpha=0.05, method='indep', is_sorted=False)[1]"
   ]
  }
 ],
 "metadata": {
  "kernelspec": {
   "display_name": "Python [conda env:timeseries]",
   "language": "python",
   "name": "conda-env-timeseries-py"
  },
  "language_info": {
   "codemirror_mode": {
    "name": "ipython",
    "version": 3
   },
   "file_extension": ".py",
   "mimetype": "text/x-python",
   "name": "python",
   "nbconvert_exporter": "python",
   "pygments_lexer": "ipython3",
   "version": "3.9.0"
  }
 },
 "nbformat": 4,
 "nbformat_minor": 5
}
