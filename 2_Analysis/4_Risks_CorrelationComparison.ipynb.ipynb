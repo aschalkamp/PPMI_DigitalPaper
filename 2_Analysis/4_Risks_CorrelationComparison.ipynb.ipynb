{
 "cells": [
  {
   "cell_type": "code",
   "execution_count": null,
   "metadata": {},
   "outputs": [],
   "source": [
    "import pandas as pd\n",
    "import numpy as np\n",
    "from scipy import stats\n",
    "import pingouin as pg\n",
    "\n",
    "import seaborn as sns\n",
    "import pylab as plt\n",
    "from statannotations.Annotator import Annotator\n",
    "import statsmodels.api as sm\n",
    "from statsmodels import stats as sm_stats\n",
    "from sklearn import metrics\n",
    "\n",
    "from importlib import reload\n",
    "from functools import reduce\n",
    "import glob\n",
    "import datetime\n",
    "import re\n",
    "\n",
    "import sys\n",
    "sys.path.insert(1,'../scripts')\n",
    "import plots\n",
    "sys.path.insert(1,'../../phenotype')\n",
    "import utils\n",
    "import _preprocess\n",
    "\n",
    "import pickle\n",
    "from statsmodels.stats.multitest import multipletests"
   ]
  },
  {
   "cell_type": "code",
   "execution_count": null,
   "metadata": {},
   "outputs": [],
   "source": [
    "def plot_context():\n",
    "    sns.set_context(\"talk\", rc={\"font.size\":18,\"axes.titlesize\":18,\"axes.labelsize\":16,\"font_scale\":0.9})"
   ]
  },
  {
   "cell_type": "code",
   "execution_count": null,
   "metadata": {},
   "outputs": [],
   "source": [
    "data_path = '/scratch/c.c21013066/data/ppmi/analyses'\n",
    "image_path = '/scratch/c.c21013066/images/paper/digitalPPMI'\n",
    "\n",
    "path = '/rds/general/user/aschalka/home/data/ppmi'\n",
    "data_path = '/rds/general/user/aschalka/home/data/ppmi/analyses'\n",
    "image_path = '/rds/general/user/aschalka/home/images/paper/prodromalPPMI'"
   ]
  },
  {
   "cell_type": "code",
   "execution_count": null,
   "metadata": {
    "tags": []
   },
   "outputs": [],
   "source": [
    "names = ['prodromal_Heinzel','prodromal_Heinzel_noDaT','UPSIT','digital']\n",
    "files = [\n",
    "        'prodromal/Heinzel_Yan2024_>1.csv','prodromal/Heinzel_Yan2024_noDaT_>1.csv','classifyPDHC/upsit/predictions',\n",
    "         'classifyPDHC/digital_tsfresh/predictions']\n",
    "for (n,name),file in zip(enumerate(names),files):\n",
    "    if 'prodromal' in name:\n",
    "        data = pd.read_csv(f'{data_path}/{file}')\n",
    "        data = data.rename(columns={'PD':f'risk_{name}'})\n",
    "        data = data.rename(columns={'age':'baseline_age','current_age':'age'})\n",
    "    else:\n",
    "        for cv in range(5):\n",
    "            fold = pd.read_csv(f'{data_path}/{file}{cv}.csv')\n",
    "            if cv==0:\n",
    "                folds = pd.DataFrame(index=fold.participant,columns=np.arange(5))\n",
    "            folds.loc[fold.participant,cv] = fold['pred_proba'].values\n",
    "            if 'clinical' in name or 'SAA' in name or 'DaTscan' in name or 'UPSIT' in name:\n",
    "                folds.loc[fold.participant,'age'] = fold['visit_age'].values\n",
    "            else:\n",
    "                folds.loc[fold.participant,'age'] = fold['age_accelerometry_mean'].values\n",
    "        folds['prob_PD'] = folds.loc[:,np.arange(5)].mean(axis=1)\n",
    "        folds[f'prob_{name}_std'] = folds.loc[:,np.arange(5)].mean(axis=1)\n",
    "        data = folds[['prob_PD','age']].reset_index()\n",
    "\n",
    "    data = data.rename(columns={'prob_PD':f'prob_{name}','pred_proba':f'prob_{name}','age':f'age_{name}'})\n",
    "\n",
    "    if n == 0:\n",
    "        merged = data[['participant',f'prob_{name}','diagnosis',f'risk_{name}',f'age_{name}']]\n",
    "    else:\n",
    "        try:\n",
    "            merged = pd.merge(merged,data[['participant',f'prob_{name}',f'risk_{name}',f'age_{name}']],on='participant',how='outer')\n",
    "        except:\n",
    "            merged = pd.merge(merged,data[['participant',f'prob_{name}',f'age_{name}']],on='participant',how='outer')"
   ]
  },
  {
   "cell_type": "code",
   "execution_count": null,
   "metadata": {},
   "outputs": [],
   "source": [
    "# add all risk info\n",
    "raw = pd.read_csv(f'{data_path}/prodromal/Heinzel_Yan2024_>1.csv',index_col=0)\n",
    "raw = pd.merge(raw.drop(columns=['diagnosis']),merged,on='participant',how='outer')\n",
    "converter = pd.read_csv(f'{data_path}/prodromal/converterInfo.csv',index_col=0)\n",
    "converter = converter.groupby('participant').first().reset_index()\n",
    "raw = pd.merge(raw,converter[np.hstack(['participant',converter.filter(regex='phenocon').columns])],on='participant',how='outer',suffixes=['_drop$',''])\n",
    "raw = raw.drop(columns=raw.filter(regex='_drop$').columns)"
   ]
  },
  {
   "cell_type": "code",
   "execution_count": null,
   "metadata": {},
   "outputs": [],
   "source": [
    "raw[['GBA','SNCA','LRRK2','1st_degree_family_history']] = raw[['GBA','SNCA','LRRK2','1st_degree_family_history']].replace([0,1],['no','yes'])\n",
    "raw = raw.set_index('participant')\n",
    "yesno = pd.get_dummies(raw[['GBA','SNCA','LRRK2','1st_degree_family_history']]).set_index(raw.index)\n",
    "raw = pd.merge(raw,yesno,right_index=True,left_index=True,how='outer')\n",
    "raw = raw.reset_index()\n",
    "names = ['prodromal_Heinzel','prodromal_Heinzel_noDaT','hyposmia','digital','DaTscan','SAA']\n",
    "for method,age in zip(names, ['age_prodromal_Heinzel','age_prodromal_Heinzel_noDaT','age_UPSIT','age_digital','age_DaTscan','age_SAA']):\n",
    "                      #['age_clinical_updrs','age_digital_tsfresh','age_clinical_updrs','age_bio_last','age_dat_last','age_bio_bl_all_saa_positive','age_bio_bl_saa_mean','age_dat_first']):\n",
    "                            # 'age_bio_bl','age_bio_bl_all_pos','age_bio_bl_saa_pos','age_bio_bl_saa_mean','age_bio_bl_fmax']):\n",
    "    print(method)\n",
    "    raw[f'diagnosis_update_{method}'] = raw['diagnosis'].copy()\n",
    "    raw.loc[np.logical_and(raw['phenoconverted']==1,(raw['phenoconverted_age']-raw[age])<0),f'diagnosis_update_{method}'] = 'converted'\n",
    "    raw.loc[np.logical_and(raw[f'diagnosis_update_{method}']=='prod',raw[age].isna()),f'diagnosis_update_{method}'] = 'no data'\n",
    "    raw.loc[np.logical_and(raw[f'diagnosis_update_{method}']=='prod',\n",
    "                           np.logical_and(raw['phenoconverted']==1,raw['phenoconverted_age'].isna())),f'diagnosis_update_{method}'] = 'no data'"
   ]
  },
  {
   "cell_type": "code",
   "execution_count": null,
   "metadata": {},
   "outputs": [],
   "source": [
    "cols = raw.filter(regex='diagnosis_update').columns\n",
    "convs = raw.loc[raw[cols].apply(lambda row: (row == 'converted').any(), axis=1),np.hstack([cols,'participant'])]"
   ]
  },
  {
   "cell_type": "code",
   "execution_count": null,
   "metadata": {},
   "outputs": [],
   "source": [
    "saa_positive = pd.read_csv(f'{path}/phenotypes2021/biospecimen_SAA_all_clean.csv')\n",
    "saa_positive['SAA_positive'] = saa_positive['SAA_positive'].replace([0,1],['no','yes'])\n",
    "saa_positive = pd.concat([saa_positive,pd.get_dummies(saa_positive['SAA_positive'],prefix='SAA')],axis=1)\n",
    "saa_positive['SAA_mean'] = saa_positive[['SAA_Fmax1','SAA_Fmax2','SAA_Fmax3']].mean(axis=1)\n",
    "raw = pd.merge(raw,saa_positive,on='participant',how='outer')"
   ]
  },
  {
   "cell_type": "code",
   "execution_count": null,
   "metadata": {},
   "outputs": [],
   "source": [
    "for v in ['male', 'pesticide_exposure', 'rbd_psgproven', 'rbd_test', 'HYPOSMIA', 'positiveDaT', 'SAA','constipation_','ErectileDysfunction_','UrinaryDysfunction_','OrthostaticHypotension_',\n",
    "         'ExcessiveDaytimeSleepiness_','DepressionAnxiety_','1st_degree_family_history_']:\n",
    "    raw[v] = raw[[f'{v}_no',f'{v}_yes']].idxmax(axis=1).replace([f'{v}_no',f'{v}_yes'],[0,1])\n",
    "    raw.loc[raw[[f'{v}_no',f'{v}_yes']].sum(axis=1)==0,v] = np.nan"
   ]
  },
  {
   "cell_type": "code",
   "execution_count": null,
   "metadata": {},
   "outputs": [],
   "source": [
    "# Heinzel binarize >80%,<5%\n",
    "bins = pd.IntervalIndex.from_tuples([(0, 0.05), (0.05, 0.8), (0.8, 1)])\n",
    "\n",
    "raw['Heinzel2019_cat'] = pd.cut(raw['prob_prodromal_Heinzel'],bins,labels=['low risk','medium risk','high risk']).map(dict(zip(bins, ['low risk','medium risk','high risk'])))"
   ]
  },
  {
   "cell_type": "code",
   "execution_count": null,
   "metadata": {},
   "outputs": [],
   "source": [
    "nona_all = raw.dropna(subset=raw.filter(regex='prob_dig').columns,how='all')\n",
    "nona_all = nona_all[nona_all['diagnosis_update_digital'].isin(['prod'])]\n",
    "nona_all = nona_all.dropna(subset=['positiveDaT','SAA','prob_prodromal_Heinzel','prob_prodromal_Heinzel_noDaT'],how='any')"
   ]
  },
  {
   "cell_type": "code",
   "execution_count": null,
   "metadata": {},
   "outputs": [],
   "source": [
    "for group in ['SAA','positiveDaT','LRRK2_yes','GBA_yes','HYPOSMIA']:\n",
    "    test = nona_all[nona_all[group]==1]\n",
    "    print(group)\n",
    "    print(test.groupby(['male'])[['LRRK2_yes','GBA_yes','positiveDaT',\n",
    "                                            'SAA','HYPOSMIA','UPDRS>6','male','age_digital']].agg(['mean',\n",
    "                                                                                                   'sum','count','std']).T)"
   ]
  },
  {
   "cell_type": "code",
   "execution_count": null,
   "metadata": {},
   "outputs": [],
   "source": [
    "var = ['LRRK2_yes','GBA_yes','rbd_psgproven','HYPOSMIA','rbd_test',\n",
    "                                  'constipation_','DepressionAnxiety_','ExcessiveDaytimeSleepiness_',\n",
    "                                 'positiveDaT','UPDRS>6','ErectileDysfunction_','UrinaryDysfunction_',\n",
    "                                 'OrthostaticHypotension_','DiabetesII','cognitive_impairment','SAA','positiveDaT','male','age_digital']\n",
    "pd.DataFrame(nona_all[var].std())"
   ]
  },
  {
   "cell_type": "code",
   "execution_count": null,
   "metadata": {},
   "outputs": [],
   "source": [
    "risks = ['prodromal_Heinzel','prodromal_Heinzel_noDaT','digital']\n",
    "table = pd.DataFrame(columns=['mean','std','N'],index=pd.MultiIndex.from_product([risks,['LRRK2_yes','GBA_yes','rbd_psgproven','HYPOSMIA',\n",
    "                                                                                    'positiveDaT','SAA']],\n",
    "                                                                             names=['risk','group']))\n",
    "for risk in risks:\n",
    "    for group in ['LRRK2_yes','GBA_yes','rbd_psgproven','HYPOSMIA','positiveDaT','SAA']:\n",
    "        table.loc[(risk,group),'mean'] = nona_all.loc[nona_all[group]==1,f'prob_{risk}'].mean()\n",
    "        table.loc[(risk,group),'std'] = nona_all.loc[nona_all[group]==1,f'prob_{risk}'].std()\n",
    "        table.loc[(risk,group),'N'] = nona_all.loc[nona_all[group]==1,f'prob_{risk}'].dropna().shape[0]"
   ]
  },
  {
   "cell_type": "code",
   "execution_count": null,
   "metadata": {},
   "outputs": [],
   "source": [
    "table"
   ]
  },
  {
   "cell_type": "code",
   "execution_count": null,
   "metadata": {},
   "outputs": [],
   "source": [
    "# time between saa and accelerometer\n",
    "print((nona_all['age_digital']-nona_all['age_DaTscan']).describe())\n",
    "print((nona_all['age_digital']-nona_all['age_SAA']).describe())\n",
    "ax = sns.histplot(nona_all['age_digital']-nona_all['age_DaTscan'],label='DaTscan')\n",
    "ax = sns.histplot(nona_all['age_digital']-nona_all['age_SAA'],label='SAA',color='orange')\n",
    "ax.set_xlabel('years to digital data collection end')\n",
    "plt.legend()"
   ]
  },
  {
   "cell_type": "markdown",
   "metadata": {},
   "source": [
    "# Difference in risk between prodromal risk carriers\n",
    "- biological stages and definitions (NSD, SynNeuGe)\n",
    "- prodromal and risk markers"
   ]
  },
  {
   "cell_type": "code",
   "execution_count": null,
   "metadata": {},
   "outputs": [],
   "source": [
    "var = ['male','pesticide_exposure','caffeine','never_smoke','previous_smoke',\n",
    "                                  'current_smoke','rbd_psgproven','rbd_test','HYPOSMIA',\n",
    "                                  'constipation_','DepressionAnxiety_','ExcessiveDaytimeSleepiness_',\n",
    "                                 'positiveDaT','UPDRS>6','ErectileDysfunction_','UrinaryDysfunction_',\n",
    "                                 'OrthostaticHypotension_','1st_degree_family_history_','DiabetesII','cognitive_impairment','GBA','LRRK2','PRS_highQ','PRS_lowQ']\n",
    "#names = ['prodromal_Heinzel','digital_tsfresh','clinical_updrs','bio_last','dat_last','bio_bl_all_saa_positive','bio_bl_saa_mean','dat_first']\n",
    "names=['digital']\n",
    "\n",
    "boxplots = pd.DataFrame(columns=['T', 'dof', 'alternative', 'p-val', 'CI95%', 'cohen-d', 'BF10',\n",
    "       'power','N_cases','N_controls'],index=pd.MultiIndex.from_product([names,var],names=['model','marker']))\n",
    "for v in var:\n",
    "    nona_all[v] = nona_all[v].replace([True,False],[1,0])\n",
    "    nona_all[v] = nona_all[v].replace(['yes','no'],[1,0])\n",
    "    nona_all[v] = nona_all[v].replace(['low risk','high risk'],[0,1])\n",
    "    for m in names:\n",
    "        try:\n",
    "            if v == 'Heinzel2019_cat':\n",
    "                nona = nona_all[nona_all[f'diagnosis_update_{m}']=='prod'].dropna(subset=[f'{v}',f'prob_{m}'])\n",
    "                boxplots.loc[(m,v),['T', 'dof', 'alternative', 'p-val', 'CI95%', 'cohen-d', 'BF10','power']] = pg.ttest(nona.loc[nona[f'{v}']==1,f'prob_{m}'],nona.loc[nona[f'{v}']==0,f'prob_{m}'],correction=True).values\n",
    "\n",
    "                boxplots.loc[(m,v),'N_cases'] = nona.loc[nona[f'{v}']==1].shape[0]\n",
    "                boxplots.loc[(m,v),'N_controls'] = nona.loc[nona[f'{v}']==0].shape[0]\n",
    "            elif v == 'ErectileDysfunction_':\n",
    "                nona = nona_all[nona_all[f'diagnosis_update_{m}']=='prod'].dropna(subset=[f'{v}_yes',f'{v}_no',f'prob_{m}'])\n",
    "                males = nona[nona['male']==1]\n",
    "                boxplots.loc[(m,v),['T', 'dof', 'alternative', 'p-val', 'CI95%', 'cohen-d', 'BF10','power']] = pg.ttest(males.loc[males[f'{v}_yes']==1,f'prob_{m}'],males.loc[males[f'{v}_no']==1,f'prob_{m}'],correction=True).values\n",
    "                boxplots.loc[(m,v),'N_cases'] = males.loc[males[f'{v}_yes']==1].shape[0]\n",
    "                boxplots.loc[(m,v),'N_controls'] = males.loc[males[f'{v}_no']==1].shape[0]\n",
    "            else:\n",
    "                nona = nona_all[nona_all[f'diagnosis_update_{m}']=='prod'].dropna(subset=[f'{v}_yes',f'{v}_no',f'prob_{m}'])\n",
    "                boxplots.loc[(m,v),['T', 'dof', 'alternative', 'p-val', 'CI95%', 'cohen-d', 'BF10','power']] = pg.ttest(nona.loc[nona[f'{v}_yes']==1,f'prob_{m}'],nona.loc[nona[f'{v}_no']==1,f'prob_{m}'],correction=True).values\n",
    "                boxplots.loc[(m,v),'N_cases'] = nona.loc[nona[f'{v}_yes']==1].shape[0]\n",
    "                boxplots.loc[(m,v),'N_controls'] = nona.loc[nona[f'{v}_no']==1].shape[0]\n",
    "        except:\n",
    "            print('too few people',v)\n",
    "        \n",
    "boxplots = boxplots.reset_index()"
   ]
  },
  {
   "cell_type": "code",
   "execution_count": null,
   "metadata": {},
   "outputs": [],
   "source": [
    "# drop too few people\n",
    "boxplots = boxplots[np.logical_and(boxplots['N_cases']>9,boxplots['N_controls']>9)]"
   ]
  },
  {
   "cell_type": "code",
   "execution_count": null,
   "metadata": {},
   "outputs": [],
   "source": [
    "boxplots['FDR-corrected'] = sm_stats.multitest.fdrcorrection(boxplots['p-val'], alpha=0.05, method='indep', is_sorted=False)[1]"
   ]
  },
  {
   "cell_type": "code",
   "execution_count": null,
   "metadata": {},
   "outputs": [],
   "source": [
    "boxplots[boxplots['FDR-corrected']<0.05]"
   ]
  },
  {
   "cell_type": "code",
   "execution_count": null,
   "metadata": {},
   "outputs": [],
   "source": [
    "boxplots_sign = boxplots[boxplots['p-val']<(0.05/len(boxplots)-10)]\n",
    "boxplots.to_csv(f'{data_path}/prodromal/digital_marker_ttest_welch>1.csv')"
   ]
  },
  {
   "cell_type": "code",
   "execution_count": null,
   "metadata": {},
   "outputs": [],
   "source": [
    "reload(plots)\n",
    "var = ['HYPOSMIA','UPDRS>6','DepressionAnxiety_']\n",
    "labels = [['Normal\\n Smell','Hyposmia'],['UPDRS \\n<= 6', 'UPDRS \\n> 6'],['No\\nDepression','Depression'],['normal PRS','low PRS'],['never smoked\\ncurrent smoker','previous smoker']]\n",
    "boxplots_sign = boxplots[boxplots['p-val']<(0.05/len(var))]\n",
    "fig,axes = plt.subplots(ncols=3,nrows=1,figsize=(15,4))\n",
    "plots.plot_context()\n",
    "for ax,v,label in zip(axes.flatten(),var,labels):\n",
    "    ax = sns.boxplot(x=v,y='prob_digital',ax=ax,data=nona_all,palette=['gray','black'])\n",
    "    pvals = boxplots[boxplots['marker']==v]['FDR-corrected'].values\n",
    "    print(pvals)\n",
    "    formatted_pvals = ['{:.2e}'.format(num) for num in pvals]\n",
    "    annotator = Annotator(ax, [(0,1)], data=nona_all, x=v, y='prob_digital',perform_stat_test=False)\n",
    "    annotator.configure(test=None, text_format='full', loc='outside', verbose=2,comparisons_correction=None).set_pvalues(pvalues=pvals).set_custom_annotations(formatted_pvals)\n",
    "    annotator.annotate()\n",
    "    plots.add_median_labels(ax,boxplots[boxplots['marker']==v][['N_controls','N_cases']].T.iloc[:,0],fmt=\"%d\",remove=0)\n",
    "    ax.set_xticklabels(label)\n",
    "    ax.set_xlabel('')\n",
    "    ax.set_ylabel('digital risk')\n",
    "plt.tight_layout()\n",
    "plt.savefig(f'{image_path}/boxplot_digital_clinicalcategories_welch_>1_FDRcorrected.png',bbox_inches='tight',dpi=300)\n",
    "plt.savefig(f'{image_path}/boxplot_digital_clinicalcategories_welch_>1_FDRcorrected.pdf',bbox_inches='tight',dpi=300)"
   ]
  },
  {
   "cell_type": "code",
   "execution_count": null,
   "metadata": {},
   "outputs": [],
   "source": [
    "# define biological stages\n",
    "nona_all['SynNeurGe'] = ''\n",
    "nona_all['G_p'] = (nona_all[['LRRK2','GBA']].sum(axis=1)>0).astype(int)\n",
    "nona_all.loc[np.logical_and(nona_all['G_p']==1,np.logical_and(nona_all['SAA']==1,nona_all['positiveDaT']==0)),'SynNeurGe'] = 'G+S+N-'\n",
    "nona_all.loc[np.logical_and(nona_all['G_p']==1,np.logical_and(nona_all['SAA']==1,nona_all['positiveDaT']==1)),'SynNeurGe'] = 'G+S+N+'\n",
    "nona_all.loc[np.logical_and(nona_all['G_p']==1,np.logical_and(nona_all['SAA']==0,nona_all['positiveDaT']==1)),'SynNeurGe'] = 'G+S-N+'\n",
    "nona_all.loc[np.logical_and(nona_all['G_p']==1,np.logical_and(nona_all['SAA']==0,nona_all['positiveDaT']==0)),'SynNeurGe'] = 'G+S-N-'\n",
    "nona_all.loc[np.logical_and(nona_all['G_p']==0,np.logical_and(nona_all['SAA']==1,nona_all['positiveDaT']==0)),'SynNeurGe'] = 'G-S+N-'\n",
    "nona_all.loc[np.logical_and(nona_all['G_p']==0,np.logical_and(nona_all['SAA']==1,nona_all['positiveDaT']==1)),'SynNeurGe'] = 'G-S+N+'\n",
    "nona_all.loc[np.logical_and(nona_all['G_p']==0,np.logical_and(nona_all['SAA']==0,nona_all['positiveDaT']==1)),'SynNeurGe'] = 'G-S-N+'\n",
    "nona_all.loc[np.logical_and(nona_all['G_p']==0,np.logical_and(nona_all['SAA']==0,nona_all['positiveDaT']==0)),'SynNeurGe'] = 'G-S-N-'\n",
    "\n",
    "nona_all['NSD'] = ''\n",
    "nona_all['C'] = (nona_all[['rbd_psgproven','rbd_test','HYPOSMIA',\n",
    "                                  'constipation_','DepressionAnxiety_','cognitive_impairment','UPDRS>6']].sum(axis=1)>0).astype(int)\n",
    "nona_all.loc[np.logical_and(nona_all['C']==0,np.logical_and(nona_all['SAA']==1,nona_all['positiveDaT']==0)),'NSD'] = '1A'\n",
    "nona_all.loc[np.logical_and(nona_all['C']==0,np.logical_and(nona_all['SAA']==1,nona_all['positiveDaT']==1)),'NSD'] = '1B'\n",
    "nona_all.loc[np.logical_and(nona_all['C']==1,np.logical_and(nona_all['SAA']==1,nona_all['positiveDaT']==0)),'NSD'] = '2A'\n",
    "nona_all.loc[np.logical_and(nona_all['C']==1,np.logical_and(nona_all['SAA']==1,nona_all['positiveDaT']==1)),'NSD'] = '2B'"
   ]
  },
  {
   "cell_type": "code",
   "execution_count": null,
   "metadata": {},
   "outputs": [],
   "source": [
    "nona_all['SynNeurGe'].value_counts(),nona_all['NSD'].value_counts()"
   ]
  },
  {
   "cell_type": "code",
   "execution_count": null,
   "metadata": {},
   "outputs": [],
   "source": [
    "nona_all.groupby(['SynNeurGe'])[['prob_digital','prob_prodromal_Heinzel','prob_prodromal_Heinzel_noDaT']].agg(['mean','std'])\n",
    "nona_all.groupby(['NSD'])[['prob_digital','prob_prodromal_Heinzel','prob_prodromal_Heinzel_noDaT']].agg(['mean','std'])"
   ]
  },
  {
   "cell_type": "code",
   "execution_count": null,
   "metadata": {},
   "outputs": [],
   "source": [
    "order_syn = ['G+S-N-','G+S+N-','G+S-N+','G-S+N-','G-S+N+']\n",
    "ttest_syneurge = pd.DataFrame(columns=pd.MultiIndex.from_product([['prob_digital','prob_prodromal_Heinzel','prob_prodromal_Heinzel_noDaT'],\n",
    "                                                                  ['T', 'dof', 'alternative', 'p-val', 'CI95%','cohen-d', 'BF10', 'power']],\n",
    "                                                                 names=['risk','test']),\n",
    "                              index=pd.MultiIndex.from_product([order_syn,order_syn],names=['g1','g2']))\n",
    "order_nsd = ['','1A','2A','2B']\n",
    "ttest_nsd = pd.DataFrame(columns=pd.MultiIndex.from_product([['prob_digital','prob_prodromal_Heinzel','prob_prodromal_Heinzel_noDaT'],\n",
    "                                                                  ['T', 'dof', 'alternative', 'p-val', 'CI95%','cohen-d', 'BF10', 'power']],\n",
    "                                                                 names=['risk','test']),\n",
    "                              index=pd.MultiIndex.from_product([order_nsd,order_nsd],names=['g1','g2']))\n",
    "\n",
    "for risk in ['prob_digital','prob_prodromal_Heinzel','prob_prodromal_Heinzel_noDaT']:\n",
    "    for i,g1 in enumerate(order_syn):\n",
    "        for j,g2 in enumerate(order_syn):\n",
    "            if j>i:\n",
    "                ttest_syneurge.loc[(g1,g2),(risk,slice(None))] = pg.ttest(nona_all.loc[nona_all['SynNeurGe']==g1,risk],\n",
    "                                                                          nona_all.loc[nona_all['SynNeurGe']==g2,risk]).values\n",
    "    for i,g1 in enumerate(order_nsd):\n",
    "        for j,g2 in enumerate(order_nsd):\n",
    "            if j>i:\n",
    "                ttest_nsd.loc[(g1,g2),(risk,slice(None))] = pg.ttest(nona_all.loc[nona_all['NSD']==g1,risk],\n",
    "                                                                          nona_all.loc[nona_all['NSD']==g2,risk]).values\n",
    "ttest_syneurge.dropna(inplace=True)\n",
    "ttest_nsd.dropna(inplace=True)"
   ]
  },
  {
   "cell_type": "code",
   "execution_count": null,
   "metadata": {},
   "outputs": [],
   "source": [
    "ttest_nsd.loc[:,(slice(None),'p-val')]"
   ]
  },
  {
   "cell_type": "code",
   "execution_count": null,
   "metadata": {},
   "outputs": [],
   "source": [
    "fig,axes = plt.subplots(ncols=3,nrows=3,figsize=(19,12))\n",
    "plots.plot_context()\n",
    "\n",
    "reload(plots)\n",
    "var = ['HYPOSMIA','UPDRS>6','DepressionAnxiety_']\n",
    "labels = [['Normal\\n Smell','Hyposmia'],['UPDRS \\n<= 6', 'UPDRS \\n> 6'],['No\\nDepression','Depression'],['normal PRS','low PRS'],['never smoked\\ncurrent smoker','previous smoker']]\n",
    "boxplots_sign = boxplots[boxplots['p-val']<(0.05/len(var))]\n",
    "\n",
    "axes[0,0].text(-0.1, 1.1, 'a', transform=axes[0,0].transAxes, \n",
    "                size=20, weight='bold')\n",
    "for ax,v,label in zip(axes[0,:],var,labels):\n",
    "    ax = sns.boxplot(x=v,y='prob_digital',ax=ax,data=nona_all,palette=['gray','black'])\n",
    "    pvals = boxplots[boxplots['marker']==v]['FDR-corrected'].values\n",
    "    print(pvals)\n",
    "    formatted_pvals = ['{:.2e}'.format(num) for num in pvals]\n",
    "    annotator = Annotator(ax, [(0,1)], data=nona_all, x=v, y='prob_digital',perform_stat_test=False)\n",
    "    annotator.configure(test=None, text_format='full', loc='outside', verbose=2,comparisons_correction=None).set_pvalues(pvalues=pvals).set_custom_annotations(formatted_pvals)\n",
    "    annotator.annotate()\n",
    "    plots.add_median_labels(ax,boxplots[boxplots['marker']==v][['N_controls','N_cases']].T.iloc[:,0],fmt=\"%d\",remove=0)\n",
    "    ax.set_xticklabels(label)\n",
    "    ax.set_xlabel('')\n",
    "    ax.set_ylabel('digital risk')\n",
    "\n",
    "axes[1,0].text(-0.1, 1.1, 'b', transform=axes[1,0].transAxes, \n",
    "                size=20, weight='bold')\n",
    "axes[2,0].text(-0.1, 1.1, 'c', transform=axes[2,0].transAxes, \n",
    "                size=20, weight='bold')\n",
    "for (i,ax),y,name in zip(enumerate(axes[1:,:].flatten()),['prob_digital','prob_prodromal_Heinzel','prob_prodromal_Heinzel_noDaT',\n",
    "                                                   'prob_digital','prob_prodromal_Heinzel','prob_prodromal_Heinzel_noDaT'],\n",
    "                         ['digital risk','MDS','MDS restricted','digital risk','MDS','MDS restricted']):\n",
    "    if i<3:\n",
    "        bp = sns.boxplot(y=y,x='SynNeurGe',data=nona_all,order=order_syn,ax=ax,palette='pastel')\n",
    "        plots.add_median_labels(ax,nona_all['SynNeurGe'].value_counts()[order_syn],fmt=\"%d\",remove=0)\n",
    "        ax.set_ylabel(name)\n",
    "    else:\n",
    "        bp = sns.boxplot(y=y,x='NSD',data=nona_all,order=order_nsd,ax=ax,palette='colorblind')\n",
    "        plots.add_median_labels(ax,nona_all['NSD'].value_counts()[order_nsd],fmt=\"%d\",remove=0)\n",
    "        ax.set_ylabel(name)        \n",
    "plt.tight_layout()\n",
    "\n",
    "plt.savefig(f'{image_path}/boxplot_drivingfactors.png',dpi=300,bbox_inches='tight')\n",
    "plt.savefig(f'{image_path}/boxplot_drivingfactors.pdf',dpi=300,bbox_inches='tight')"
   ]
  },
  {
   "cell_type": "code",
   "execution_count": null,
   "metadata": {},
   "outputs": [],
   "source": [
    "plots.plot_context()\n",
    "nona = nona_all.dropna(subset=['positiveDaT','SAA','prob_prodromal_Heinzel','prob_prodromal_Heinzel_noDaT'],how='any')\n",
    "dig_thresh = 0.5374367134240129\n",
    "ax=sns.scatterplot(x='prob_prodromal_Heinzel_noDaT',y='prob_digital',data=nona,hue='SAA',style='positiveDaT',palette='colorblind',alpha=0.8)\n",
    "ax.axvline(0.8,0,1,ls='--',color='k')\n",
    "ax.axvline(0.05,0,1,ls='--',color='k')\n",
    "ax.axhline(dig_thresh,0,1,ls='--',color='gray')\n",
    "plt.fill_between(x=[plt.xlim()[0], 0.05], y1=plt.ylim()[0], y2=dig_thresh, alpha=0.2, color='green')  # Upper\n",
    "plt.fill_between(x=[0.8, plt.xlim()[1]], y1=dig_thresh, y2=plt.ylim()[1], alpha=0.2, color='red')  # Lower\n",
    "plt.xlabel('Heinzel 2019')\n",
    "plt.ylabel('digital risk')\n",
    "handles, labels = ax.get_legend_handles_labels()\n",
    "\n",
    "labels[0] = \"SAA+\"\n",
    "labels[3] = \"DaT+\"\n",
    "\n",
    "ax.legend(handles=handles, labels=labels,bbox_to_anchor=(1,1))\n",
    "#plt.savefig(f'{image_path}/scatterplot_HeinzelvsDigital_>1_SAAhue_DaTstyle.png',dpi=300,bbox_inches='tight')\n",
    "#plt.savefig(f'{image_path}/scatterplot_HeinzelvsDigital_>1_SAAhue_DaTstyle.pdf',dpi=300,bbox_inches='tight')"
   ]
  },
  {
   "cell_type": "markdown",
   "metadata": {},
   "source": [
    "## Correlation between risk scores"
   ]
  },
  {
   "cell_type": "code",
   "execution_count": null,
   "metadata": {},
   "outputs": [],
   "source": [
    "names = ['DaTscan minimum\\nputamen SBR','CSF alpha-synuclein\\nSAA Fmax mean','MDS','MDS\\nrestricted','digital']\n",
    "xs = ['putamen_min','SAA_mean','prob_prodromal_Heinzel','prob_prodromal_Heinzel_noDaT','prob_digital']\n",
    "corrs = pd.DataFrame(columns=['n','r','CI95%','p-val','BF10','power'],index=pd.MultiIndex.from_product([names,names],names=['risk1','risk2']))\n",
    "nona = nona_all.dropna(subset=xs,how='any')\n",
    "for (i,x1),name1 in zip(enumerate(xs),names):\n",
    "    for (j,x2),name2 in zip(enumerate(xs),names):\n",
    "        if j>i:\n",
    "            corrs.loc[(name1,name2),:] = pg.corr(nona[x1],nona[x2],kind='pearson').values\n",
    "corrs = corrs.dropna()"
   ]
  },
  {
   "cell_type": "code",
   "execution_count": null,
   "metadata": {},
   "outputs": [],
   "source": [
    "corrs['FDR corrected p-val'] = sm_stats.multitest.fdrcorrection(corrs['p-val'], alpha=0.05, method='indep', is_sorted=False)[1]"
   ]
  },
  {
   "cell_type": "code",
   "execution_count": null,
   "metadata": {},
   "outputs": [],
   "source": [
    "corrs"
   ]
  },
  {
   "cell_type": "code",
   "execution_count": null,
   "metadata": {},
   "outputs": [],
   "source": [
    "def plot_pairplot_own():\n",
    "    import matplotlib.patches as mpatches\n",
    "    fig = plt.figure(figsize=(20,20))\n",
    "    plot_context()\n",
    "    order_ = ['putamen_min','SAA_mean','prob_prodromal_Heinzel','prob_prodromal_Heinzel_noDaT','prob_digital'][::-1]#'bio_bl_saa_pos','bio_bl_saa_mean','bio_bl_fmax','prodromal_Heinzel']\n",
    "    #order_ = ['digital','SAA','DaTscan','UPSIT','prodromal_Heinzel_noDaT','prodromal_Heinzel']\n",
    "    order = ['DaTscan minimum\\nputamen SBR','CSF alpha-synuclein\\nSAA Fmax mean','MDS','MDS\\nrestricted','digital'][::-1]\n",
    "    #order = ['digital\\ntimeseries','SAA','DaTscan','UPSIT','Heinzel2019_restricted','Heinzel2019']\n",
    "    data = raw.rename(columns={'prob_digital_average':'digital\\naverage','prob_digital':'digital','prob_clinical_updrs':'clinical',\n",
    "                                                 'prob_clinical_noupdrs':'clinical\\nwithout UPDRS','prob_prodromal_Berg':'Berg2015',\n",
    "                                                 'prob_prodromal_Heinzel':'MDS','prob_prodromal_Heinzel_noDaT':'MDS\\nrestricted','prob_bio_last':'CSF',\n",
    "                              'prob_bio_bl':'CSF_BL_noSAA','prob_bio_bl_all_saa_positive':'CSF_BL','prob_bio_bl_saa_pos':'SAA_pos','prob_bio_bl_saa_mean':'SAA_mean','prob_bio_bl_fmax':'SAA_fmax','prob_dat_last':'DaTscan',\n",
    "                              'prob_dat_first':'DaTscan_BL','prob_DaTscan':'DaTscan','prob_SAA':'SAA','prob_UPSIT':'UPSIT',\n",
    "                              'putamen_min':'DaTscan minimum\\nputamen SBR','SAA_mean':'CSF alpha-synuclein\\nSAA Fmax mean'})\n",
    "    data = data[data['diagnosis_update_prodromal_Heinzel'].isin(['pd','prod','hc'])].dropna(subset=order,how='all')\n",
    "    #data.loc[data['phenoconverted']==1,'diagnosis'] = 'converter'\n",
    "    data = data.dropna(subset=order,how='any')\n",
    "    subset = data.loc[data['diagnosis_update_prodromal_Heinzel'].isin(['pd','prod','hc'])]\n",
    "    fig,axes = plt.subplots(ncols=len(order_),nrows=len(order_),figsize=(15,12))\n",
    "    for (i,o_),o in zip(enumerate(order_),order):\n",
    "        for (j,o_2),o2 in zip(enumerate(order_),order):\n",
    "            if i>j:\n",
    "                # scatterplot\n",
    "                sns.regplot(x=o_2,y=o_,data=nona,ax=axes[i,j],color='green',scatter_kws={'s':2})\n",
    "                r = corrs.loc[(o,o2),'r']\n",
    "                p = corrs.loc[(o,o2),'FDR corrected p-val']\n",
    "                axes[i,j].text(0.05,0.05,f'r: {r:.2f}\\np: {p:.1e}',bbox=dict(boxstyle='round', facecolor='wheat', alpha=0.5), transform=axes[i,j].transAxes,fontsize=15)\n",
    "            elif j==i:\n",
    "                # kdeplot\n",
    "                sns.kdeplot(data=data,x=o,ax=axes[i,j],hue='diagnosis_update_digital')\n",
    "                axes[i,j].legend([],[],frameon=False)\n",
    "            elif j>i:\n",
    "                axes[i,j].set_axis_off()\n",
    "            if j==0:\n",
    "                axes[i,j].set_ylabel(o)\n",
    "            else:\n",
    "                axes[i,j].set_ylabel('')\n",
    "            if i==(len(order)-1):\n",
    "                axes[i,j].set_xlabel(o2)\n",
    "            else:\n",
    "                axes[i,j].set_xlabel('') \n",
    "\n",
    "    handles = [\n",
    "               mpatches.Patch(color='blue', label='PD'),\n",
    "              mpatches.Patch(color='orange', label='HC'),\n",
    "              mpatches.Patch(color='green', label='Prodromal')]\n",
    "\n",
    "    labels = ['PD','HC','Prodromal']\n",
    "    plt.figlegend(handles, labels, loc='upper right')\n",
    "    plt.tight_layout()\n",
    "\n",
    "    plt.savefig(f'{image_path}/pairplot.png',dpi=300,bbox_inches='tight')\n",
    "    plt.savefig(f'{image_path}/pairplot.pdf',dpi=300,bbox_inches='tight')\n",
    "    return fig\n",
    "plot_pairplot_own()"
   ]
  },
  {
   "cell_type": "code",
   "execution_count": null,
   "metadata": {},
   "outputs": [],
   "source": [
    "from matplotlib.ticker import MaxNLocator\n",
    "nona = nona_all.dropna(subset=['putamen_min','SAA_mean','prob_prodromal_Heinzel','prob_prodromal_Heinzel_noDaT'],how='any')\n",
    "names = ['DaTscan minimum putamen SBR','SAA Fmax mean','Heinzel 2019','Heinzel 2019 restricted']\n",
    "corr = pd.DataFrame(columns=['n','r','CI95%','p-val','BF10','power'],index=names)\n",
    "fig, axes = plt.subplots(ncols=2,nrows=2,figsize=(15,8))\n",
    "plots.plot_context()\n",
    "for x,name,ax in zip(['putamen_min','SAA_mean','prob_prodromal_Heinzel','prob_prodromal_Heinzel_noDaT'],names,axes.flatten()):\n",
    "    corr.loc[name,:] = pg.corr(nona[x],nona['prob_digital'],kind='pearson').values\n",
    "    ax=sns.regplot(x=x,y='prob_digital',data=nona,ax=ax,color='k')\n",
    "    r = corr.loc[name,'r']\n",
    "    p = corr.loc[name,'p-val']\n",
    "    ax.text(0.05,0.05,f'r: {r:.2f}, p-val: {p:.1e}',bbox=dict(boxstyle='round', facecolor='wheat', alpha=0.5), transform=ax.transAxes)\n",
    "    ax.set_xlabel(name)\n",
    "    ax.set_ylabel('digital risk')\n",
    "    ax.xaxis.set_major_locator(MaxNLocator(integer=True, nbins=5))  # Decrease number of x-ticks\n",
    "\n",
    "plt.tight_layout()\n",
    "plt.savefig(f'{image_path}/regplot_Digital_>0.png',dpi=300,bbox_inches='tight')\n",
    "plt.savefig(f'{image_path}/regplot_Digital_>0.pdf',dpi=300,bbox_inches='tight')\n",
    "\n",
    "corr.to_csv('/scratch/c.c21013066/data/ppmi/analyses/prodromal/correlation_dig_markers_>1.csv')"
   ]
  },
  {
   "cell_type": "markdown",
   "metadata": {},
   "source": [
    "# Correlation with clinical tests"
   ]
  },
  {
   "cell_type": "code",
   "execution_count": null,
   "metadata": {},
   "outputs": [],
   "source": [
    "# correlation digital risk with clinical scores\n",
    "behavior = pd.read_csv('/scratch/c.c21013066/data/ppmi/phenotypes2021/behavior_clean.csv')\n",
    "behavior = behavior.groupby('participant').last()\n",
    "behavior['updrs_iii_OFF'] = behavior['updrs_iii_OFF'].fillna(behavior['updrs_iii_NoMED'])\n",
    "risk_clinic = pd.merge(behavior,nona_all,on='participant')\n",
    "clinic = ['updrs_iii_OFF','updrs_ii','updrs_i','se_adl','moca','lns','benton','scopa_aut','epworth','quip','gds']\n",
    "corr = pd.DataFrame(index=clinic,columns=['n', 'r', 'CI95%', 'p-val', 'BF10', 'power'])\n",
    "for c in clinic:\n",
    "    corr.loc[c,:] = pg.corr(risk_clinic['prob_digital'],risk_clinic[c]).values"
   ]
  },
  {
   "cell_type": "code",
   "execution_count": null,
   "metadata": {},
   "outputs": [],
   "source": [
    "corr"
   ]
  },
  {
   "cell_type": "markdown",
   "metadata": {},
   "source": [
    "# Chaining of risk tests\n",
    "use DaTscan as gold standard, chain digital, hyposmia, SAA and see how close to DaT"
   ]
  },
  {
   "cell_type": "code",
   "execution_count": null,
   "metadata": {},
   "outputs": [],
   "source": [
    "thrsh = [100]\n",
    "names = ['digital']\n",
    "truth = 'pd'\n",
    "dig_threshs = pd.DataFrame(index=['F1','precision','youden'],columns=['value'])\n",
    "for thresh_name in dig_threshs.index:\n",
    "    for name,thr in zip(names,thrsh):\n",
    "        prob = f'prob_{name}'\n",
    "        pd_mean = raw.loc[raw['diagnosis']=='pd',prob].mean() - raw.loc[raw['diagnosis']=='pd',prob].std()\n",
    "        if thr==0:\n",
    "            pass\n",
    "        else:\n",
    "            nona = raw.dropna(subset=[prob])\n",
    "            nona = nona[nona['diagnosis'].isin(['hc','pd'])]\n",
    "            nona['pd'] = (nona['diagnosis']=='pd').astype(int)\n",
    "            nona = nona.dropna(subset=[truth])\n",
    "            precision, recall, thresholds = metrics.precision_recall_curve(nona[truth], nona[prob])\n",
    "            if thresh_name == 'F1':\n",
    "                dig_thresh = thresholds[np.argmax((2*precision*recall)/(precision+recall))]\n",
    "            elif thresh_name=='precision':\n",
    "                dig_thresh = thresholds[np.argmax(precision)]\n",
    "            #dig_thresh = thresholds[np.argmax(precision + recall)]\n",
    "            fpr, tpr, thresholds = metrics.roc_curve(nona[truth], nona[prob])\n",
    "            if thresh_name == 'youden':\n",
    "                dig_thresh = thresholds[np.argmax(tpr - fpr)]\n",
    "            print(dig_thresh,thresh_name)\n",
    "            dig_threshs.loc[thresh_name,'value'] = dig_thresh\n",
    "            raw[f'risk_{name}'] = (raw[prob] > dig_thresh).astype(int)\n",
    "            raw.loc[raw[prob].isna(),f'risk_{name}'] = np.nan\n",
    "        ax = sns.histplot(data=raw[raw['diagnosis_update_prodromal_Heinzel'].isin(['pd','hc','prod','converted'])],hue='diagnosis_update_prodromal_Heinzel',\n",
    "                     x=prob,kde=True,legend=False,hue_order=['pd','hc','prod'])\n",
    "        if thr==0:\n",
    "            ax.axvline(pd_mean,color='red')\n",
    "        else:\n",
    "            ax.axvline(dig_thresh,color='red')\n",
    "    plt.tight_layout()\n",
    "dig_threshs"
   ]
  },
  {
   "cell_type": "code",
   "execution_count": null,
   "metadata": {},
   "outputs": [],
   "source": [
    "CMs = pd.DataFrame(columns=pd.MultiIndex.from_product([['SAA','DaTscan'],['TN','FP','FN','TP','precision','recall','fscore','support']],names=['true outcome','statistic']),\n",
    "                       index=dig_threshs.index)\n",
    "\n",
    "for truth,truth_var in zip(['SAA','DaTscan'],['SAA','positiveDaT']):\n",
    "    for name in CMs.index:\n",
    "            dig_thresh = dig_threshs.loc[name,'value']\n",
    "            nona_all['risk_digital'] = (nona_all['prob_digital']>dig_thresh).astype(int)\n",
    "            nona_all['digital_hyposmia'] = nona_all[['risk_digital','HYPOSMIA']].max(axis=1)\n",
    "            nona = nona_all.dropna(subset=['prob_digital'],how='any')\n",
    "            print(nona.shape[0])\n",
    "            CM = metrics.confusion_matrix(nona[truth_var],nona[test])\n",
    "            print(nona[np.logical_and(nona[truth_var]==1,nona[test]==0)].shape)\n",
    "            CMs.loc[name,(truth,['TN','FP','FN','TP'])] = CM.ravel()\n",
    "            CMs.loc[name,(truth,['precision','recall','fscore','support'])] = metrics.precision_recall_fscore_support(nona[truth_var],nona['risk_digital'],average='binary')"
   ]
  },
  {
   "cell_type": "code",
   "execution_count": null,
   "metadata": {},
   "outputs": [],
   "source": [
    "CMs"
   ]
  },
  {
   "cell_type": "code",
   "execution_count": null,
   "metadata": {},
   "outputs": [],
   "source": [
    "#dig_thresh = 0.5374367134240129\n",
    "nona_all['risk_digital'] = (nona_all['prob_digital']>dig_thresh).astype(int)\n",
    "nona_all['digital_hyposmia'] = nona_all[['risk_digital','HYPOSMIA']].max(axis=1)\n",
    "nona_all['SAA_DaT'] = nona_all[['positiveDaT','SAA']].max(axis=1)\n",
    "nona = nona_all.dropna(subset=['prob_prodromal_Heinzel','prob_prodromal_Heinzel_noDaT','prob_digital','SAA_positive','positiveDaT','HYPOSMIA'],how='any')\n",
    "print(nona.shape[0])\n",
    "\n",
    "CMs = pd.DataFrame(columns=pd.MultiIndex.from_product([['SAA+','DaT+','SAA+ or DaT+'],['TN','FP','FN','TP','precision','recall','fscore','support']],names=['true outcome','statistic']),\n",
    "                   index=['MDS','MDS restricted','Hyposmia','digital','digital+hyposmia','SAA','DaTscan'])\n",
    "for truth,truth_var in zip(['SAA+','DaT+','SAA+ or DaT+'],['SAA','positiveDaT','SAA_DaT']):\n",
    "    for name,test in zip(CMs.index,['risk_prodromal_Heinzel','risk_prodromal_Heinzel_noDaT','HYPOSMIA','risk_digital','digital_hyposmia','SAA','positiveDaT']):\n",
    "        #nona = nona_all.dropna(subset=[test,'positiveDaT'],how='any')\n",
    "        CM = metrics.confusion_matrix(nona[truth_var],nona[test])\n",
    "        print(nona[np.logical_and(nona[truth_var]==1,nona[test]==0)].shape)\n",
    "        CMs.loc[name,(truth,['TN','FP','FN','TP'])] = CM.ravel()\n",
    "        CMs.loc[name,(truth,['precision','recall','fscore','support'])] = metrics.precision_recall_fscore_support(nona[truth_var],nona[test],average='binary')"
   ]
  },
  {
   "cell_type": "code",
   "execution_count": null,
   "metadata": {},
   "outputs": [],
   "source": [
    "CMs.dropna(axis='columns')"
   ]
  },
  {
   "cell_type": "code",
   "execution_count": null,
   "metadata": {},
   "outputs": [],
   "source": [
    "print(CMs.dropna(axis='columns').to_latex())"
   ]
  },
  {
   "cell_type": "code",
   "execution_count": null,
   "metadata": {},
   "outputs": [],
   "source": [
    "CMs.dropna(axis='columns').to_csv(f'{data_path}/prodromal/confusion_matrix_>1.csv')"
   ]
  },
  {
   "cell_type": "code",
   "execution_count": null,
   "metadata": {},
   "outputs": [],
   "source": [
    "#chaining\n",
    "#dig_thresh = 0.5374367134240129\n",
    "nona = nona_all.dropna(subset=['prob_digital','HYPOSMIA','SAA','positiveDaT'],how='any')\n",
    "print(nona.shape[0])\n",
    "nona['SAA_DaT'] = nona[['positiveDaT','SAA']].max(axis=1)\n",
    "#nona_all['risk_digital'] = (nona_all['prob_digital']>dig_thresh).astype(int)\n",
    "CMschain = pd.DataFrame(columns=['TN','FP','FN','TP','precision','recall','fscore','support'],index=['MDS restricted','Hyposmia'])\n",
    "for name,test in zip(CMschain.index,['risk_prodromal_Heinzel_noDaT','HYPOSMIA']):\n",
    "    print(nona.shape,name)\n",
    "    #nona = nona.dropna(subset=[test,'positiveDaT'],how='any')\n",
    "    CM = metrics.confusion_matrix(nona['SAA_DaT'],nona[test])\n",
    "    CMschain.loc[name,:4] = CM.ravel()\n",
    "    CMschain.loc[name,4:] = metrics.precision_recall_fscore_support(nona['SAA_DaT'],nona[test],average='binary')\n",
    "    nona = nona[nona[test]==1]"
   ]
  },
  {
   "cell_type": "code",
   "execution_count": null,
   "metadata": {},
   "outputs": [],
   "source": [
    "CMschain"
   ]
  },
  {
   "cell_type": "code",
   "execution_count": null,
   "metadata": {},
   "outputs": [],
   "source": [
    "CMschain"
   ]
  },
  {
   "cell_type": "code",
   "execution_count": null,
   "metadata": {},
   "outputs": [],
   "source": [
    "CMschain.iloc[:,:4].sum(axis=1)"
   ]
  },
  {
   "cell_type": "markdown",
   "metadata": {},
   "source": [
    "# Proportion identified as PD"
   ]
  },
  {
   "cell_type": "code",
   "execution_count": null,
   "metadata": {},
   "outputs": [],
   "source": [
    "raw = raw.set_index('participant')"
   ]
  },
  {
   "cell_type": "code",
   "execution_count": null,
   "metadata": {},
   "outputs": [],
   "source": [
    "raw['risk_digital'] = (raw['prob_digital']>dig_thresh).astype(int)\n",
    "raw.loc[raw['prob_digital'].isna(),'risk_digital'] = np.nan"
   ]
  },
  {
   "cell_type": "code",
   "execution_count": null,
   "metadata": {},
   "outputs": [],
   "source": [
    "table_prop = pd.DataFrame(index=['prodromal_Heinzel','prodromal_Heinzel_noDaT','digital','SAA','DaTscan'],columns=pd.MultiIndex.from_product([['hc','pd','prod','converted','future_converters'],['N','proportion identified as PD']],names=['group','statistic']))\n",
    "converters = raw.loc[raw[f'diagnosis_update_prodromal_Heinzel']=='converted'].index\n",
    "for name,test in zip(['prodromal_Heinzel','prodromal_Heinzel_noDaT','digital','SAA','DaTscan'],['risk_prodromal_Heinzel','risk_prodromal_Heinzel_noDaT','risk_digital','SAA','positiveDaT']):\n",
    "    df = raw[raw[f'diagnosis_update_{name}'].isin(['converted','hc','pd','prod'])]\n",
    "    have_converted = df.loc[df[f'diagnosis_update_{name}']=='converted'].index\n",
    "    will_convert = np.setdiff1d(converters,have_converted)\n",
    "    will_convert = np.intersect1d(will_convert,df.index)\n",
    "    df.loc[will_convert,f'diagnosis_update_{name}'] = 'future_converters'\n",
    "    temp = df.groupby(f'diagnosis_update_{name}')[test].agg(['count','mean']).reindex(['hc','pd','prod','converted','future_converters'], fill_value=0)\n",
    "\n",
    "    table_prop.loc[name,:] = temp.stack().T.values\n"
   ]
  },
  {
   "cell_type": "code",
   "execution_count": null,
   "metadata": {},
   "outputs": [],
   "source": [
    "table_prop"
   ]
  },
  {
   "cell_type": "markdown",
   "metadata": {},
   "source": [
    "## Who is false negative?\n",
    "- elevated UPDRS?"
   ]
  },
  {
   "cell_type": "code",
   "execution_count": null,
   "metadata": {},
   "outputs": [],
   "source": [
    "raw = raw.replace(['no','yes'],[0,1])\n",
    "raw = raw.replace([False,True],[0,1])\n",
    "var = ['male','pesticide_exposure','caffeine','never_smoke','previous_smoke',\n",
    "                                  'current_smoke','rbd_psgproven','rbd_test','HYPOSMIA',\n",
    "                                  'constipation_','DepressionAnxiety_','ExcessiveDaytimeSleepiness_',\n",
    "                                 'UPDRS>6','ErectileDysfunction_','UrinaryDysfunction_',\n",
    "                                 'OrthostaticHypotension_','1st_degree_family_history','DiabetesII','cognitive_impairment','GBA','LRRK2','PRS_highQ','PRS_lowQ','current_age','SAA','positiveDaT']\n",
    "LRs = [[1.2,0.8],[1.5,1],[0.88,1.35],[1.2,1],[0.91,1],[0.51,1],\n",
    "                          [130,0.65],[2.8,0.89],[6.4,0.4],[2.5,0.82],[1.6,0.88],[2.7,0.86],[43.3,0.66],[9.6,0.55],[3.4,0.87],\n",
    "                           [2.0,0.9],[3.2,0.8],[2.5,1],\n",
    "                                        [1.57,1],[0.45,1],\n",
    "                                        #[1.3,0.91],[1.8,1],[0.88,1],\n",
    "       [1.8,0.88],[1.5,0.97]]\n",
    "var_names = ['male','pesticide_exposure','caffeine','never_smoke','previous_smoke',\n",
    "                                  'current_smoke','rbd_psgproven','rbd_test','HYPOSMIA',\n",
    "                                  'constipation_','DepressionAnxiety_','ExcessiveDaytimeSleepiness_',\n",
    "                                 'positiveDaT',\n",
    "                                  'UPDRS>6','ErectileDysfunction_','UrinaryDysfunction_',\n",
    "                                 'OrthostaticHypotension_','1st_degree_family_history',\n",
    "                                 'PRS_highQ','PRS_lowQ',\n",
    "                                  #'physical_inactivity','urate_low','urate_high',\n",
    "             'cognitive_impairment','DiabetesII']\n",
    "LR_dict = {var_names[i]: LRs[i] for i in range(len(var_names))}\n",
    "subset = raw[raw['diagnosis_update_prodromal_Heinzel'].isin(['converted','hc','pd','prod'])]\n",
    "subset = raw[raw['participant'].isin(nona_all.participant)]\n",
    "table = subset.groupby('diagnosis_update_prodromal_Heinzel')[var].agg(['count','mean']).T\n",
    "#table['LR'] = table.index.map(LR_dict)"
   ]
  },
  {
   "cell_type": "code",
   "execution_count": null,
   "metadata": {},
   "outputs": [],
   "source": [
    "df = table.unstack()\n",
    "new_columns = []\n",
    "for col in df.columns:\n",
    "    new_col = (col[0], col[1].replace('count', 'data available for N').replace('mean', 'proportion with indicator present'))\n",
    "    new_columns.append(new_col)\n",
    "\n",
    "df.columns = pd.MultiIndex.from_tuples(new_columns)\n",
    "df = df.drop(index='current_age')"
   ]
  },
  {
   "cell_type": "code",
   "execution_count": null,
   "metadata": {},
   "outputs": [],
   "source": [
    "df"
   ]
  },
  {
   "cell_type": "code",
   "execution_count": null,
   "metadata": {},
   "outputs": [],
   "source": [
    "df.to_csv(f'{path}/analyses/prodromal/study_cohort_prod.csv')"
   ]
  },
  {
   "cell_type": "code",
   "execution_count": null,
   "metadata": {},
   "outputs": [],
   "source": [
    "nona_all['risk_digital'] = (nona_all['prob_digital']>dig_thresh).astype(int)\n",
    "\n",
    "FN = nona[np.logical_and(nona['risk_digital']==0, nona['risk_prodromal_Heinzel']==1)]"
   ]
  },
  {
   "cell_type": "code",
   "execution_count": null,
   "metadata": {},
   "outputs": [],
   "source": [
    "TP = nona.loc[np.logical_and(nona['risk_digital']==1, nona['SAA']==1),'participant']\n",
    "TP_hyp = nona.loc[np.logical_and(nona['HYPOSMIA']==1, nona['SAA']==1),'participant']"
   ]
  },
  {
   "cell_type": "code",
   "execution_count": null,
   "metadata": {},
   "outputs": [],
   "source": [
    "len(np.union1d(TP,TP_hyp)),TP.shape,TP_hyp.shape"
   ]
  },
  {
   "cell_type": "code",
   "execution_count": null,
   "metadata": {},
   "outputs": [],
   "source": [
    "(nona['risk_prodromal_Heinzel']==1).sum(),FN.shape,1-2/17"
   ]
  },
  {
   "cell_type": "code",
   "execution_count": null,
   "metadata": {},
   "outputs": [],
   "source": [
    "var = ['male','pesticide_exposure','caffeine','never_smoke','previous_smoke',\n",
    "                                  'current_smoke','rbd_psgproven','rbd_test','HYPOSMIA',\n",
    "                                  'constipation_','DepressionAnxiety_','ExcessiveDaytimeSleepiness_',\n",
    "                                 'positiveDaT','UPDRS>6','ErectileDysfunction_','UrinaryDysfunction_',\n",
    "                                 'OrthostaticHypotension_','1st_degree_family_history_','DiabetesII','cognitive_impairment','GBA','LRRK2','PRS_highQ','PRS_lowQ','SAA','Heinzel2019_cat']"
   ]
  },
  {
   "cell_type": "code",
   "execution_count": null,
   "metadata": {
    "tags": []
   },
   "outputs": [],
   "source": [
    "test = 'positiveDaT'\n",
    "FN = nona[np.logical_and(nona['risk_digital']==0, nona[test]==1)]\n",
    "TP = nona[np.logical_and(nona['risk_digital']==1, nona[test]==1)]\n",
    "nona[f'{test}_digital'] = np.logical_and(nona['risk_digital']==0, nona[test]==1)\n",
    "#nona.loc[np.logical_and(nona['risk_digital']==1, nona[test]==0),f'{test}_digital'] = np.nan\n",
    "#nona.loc[np.logical_and(nona['risk_digital']==0, nona[test]==0),f'{test}_digital'] = np.nan\n",
    "chi2 = pd.DataFrame(index=var,columns=['chi2','p-value','dof','expected_frequency'])\n",
    "for v in var:\n",
    "        crosstab = pd.crosstab(nona[v],nona[f'{test}_digital'])\n",
    "        chi2.loc[v,:] = stats.chi2_contingency(crosstab)"
   ]
  },
  {
   "cell_type": "code",
   "execution_count": null,
   "metadata": {},
   "outputs": [],
   "source": [
    "chi2"
   ]
  },
  {
   "cell_type": "code",
   "execution_count": null,
   "metadata": {},
   "outputs": [],
   "source": [
    "updrs = pd.read_csv(f'{path}/phenotypes2021/MDS_UPDRS_Part_III.csv',na_values=['UR'],parse_dates=['INFODT'])\n",
    "updrs['updrs_iii'] = updrs[['NP3SPCH', 'NP3FACXP', 'NP3RIGN', 'NP3RIGRU', 'NP3RIGLU',\n",
    "                 'NP3RIGRL', 'NP3RIGLL', 'NP3FTAPR', 'NP3FTAPL', 'NP3HMOVR',\n",
    "                 'NP3HMOVL', 'NP3PRSPR', 'NP3PRSPL', 'NP3TTAPR', 'NP3TTAPL',\n",
    "                 'NP3LGAGR', 'NP3LGAGL', 'NP3RISNG', 'NP3GAIT', 'NP3FRZGT',\n",
    "                 'NP3PSTBL', 'NP3POSTR', 'NP3BRADY', 'NP3PTRMR', 'NP3PTRML',\n",
    "                 'NP3KTRMR', 'NP3KTRML',\n",
    "                  'NP3RTARU', 'NP3RTALU', 'NP3RTARL',\n",
    "                 'NP3RTALL', 'NP3RTALJ', 'NP3RTCON']].sum(axis=1)\n",
    "max_updrs = updrs.groupby('PATNO')[['NP3SPCH', 'NP3FACXP', 'NP3RIGN', 'NP3RIGRU', 'NP3RIGLU',\n",
    "                 'NP3RIGRL', 'NP3RIGLL', 'NP3FTAPR', 'NP3FTAPL', 'NP3HMOVR',\n",
    "                 'NP3HMOVL', 'NP3PRSPR', 'NP3PRSPL', 'NP3TTAPR', 'NP3TTAPL',\n",
    "                 'NP3LGAGR', 'NP3LGAGL', 'NP3RISNG', 'NP3GAIT', 'NP3FRZGT',\n",
    "                 'NP3PSTBL', 'NP3POSTR', 'NP3BRADY', 'NP3PTRMR', 'NP3PTRML',\n",
    "                 'NP3KTRMR', 'NP3KTRML',\n",
    "                  'NP3RTARU', 'NP3RTALU', 'NP3RTARL',\n",
    "                 'NP3RTALL', 'NP3RTALJ', 'NP3RTCON','updrs_iii']].max()\n",
    "data = pd.merge(nona,max_updrs,right_on='PATNO',left_on='participant',how='left')#updrs.loc[updrs['PATNO'].isin(FN['participant']),['PATNO','INFODT','NP3SPCH', 'NP3FACXP', 'NP3RIGN', 'NP3RIGRU', 'NP3RIGLU',\n",
    "                 # 'NP3RIGRL', 'NP3RIGLL', 'NP3FTAPR', 'NP3FTAPL', 'NP3HMOVR',\n",
    "                 # 'NP3HMOVL', 'NP3PRSPR', 'NP3PRSPL', 'NP3TTAPR', 'NP3TTAPL',\n",
    "                 # 'NP3LGAGR', 'NP3LGAGL', 'NP3RISNG', 'NP3GAIT', 'NP3FRZGT',\n",
    "                 # 'NP3PSTBL', 'NP3POSTR', 'NP3BRADY', 'NP3PTRMR', 'NP3PTRML',\n",
    "                 # 'NP3KTRMR', 'NP3KTRML',\n",
    "                 #  'NP3RTARU', 'NP3RTALU', 'NP3RTARL',\n",
    "                 # 'NP3RTALL', 'NP3RTALJ', 'NP3RTCON']]"
   ]
  },
  {
   "cell_type": "code",
   "execution_count": null,
   "metadata": {},
   "outputs": [],
   "source": [
    "ttest = pd.DataFrame(index=['NP3SPCH', 'NP3FACXP', 'NP3RIGN', 'NP3RIGRU', 'NP3RIGLU',\n",
    "                 'NP3RIGRL', 'NP3RIGLL', 'NP3FTAPR', 'NP3FTAPL', 'NP3HMOVR',\n",
    "                 'NP3HMOVL', 'NP3PRSPR', 'NP3PRSPL', 'NP3TTAPR', 'NP3TTAPL',\n",
    "                 'NP3LGAGR', 'NP3LGAGL', 'NP3RISNG', 'NP3GAIT', 'NP3FRZGT',\n",
    "                 'NP3PSTBL', 'NP3POSTR', 'NP3BRADY', 'NP3PTRMR', 'NP3PTRML',\n",
    "                 'NP3KTRMR', 'NP3KTRML',\n",
    "                  'NP3RTARU', 'NP3RTALU', 'NP3RTARL',\n",
    "                 'NP3RTALL', 'NP3RTALJ', 'NP3RTCON','updrs_iii'],columns=pd.MultiIndex.from_product([['SAA','positiveDaT'],['U', 'alternative', 'p-val', 'RBC', 'CLES']],names=['true outcome','statistic']))\n",
    "# means = pd.DataFrame(index=['NP3SPCH', 'NP3FACXP', 'NP3RIGN', 'NP3RIGRU', 'NP3RIGLU',\n",
    "#                  'NP3RIGRL', 'NP3RIGLL', 'NP3FTAPR', 'NP3FTAPL', 'NP3HMOVR',\n",
    "#                  'NP3HMOVL', 'NP3PRSPR', 'NP3PRSPL', 'NP3TTAPR', 'NP3TTAPL',\n",
    "#                  'NP3LGAGR', 'NP3LGAGL', 'NP3RISNG', 'NP3GAIT', 'NP3FRZGT',\n",
    "#                  'NP3PSTBL', 'NP3POSTR', 'NP3BRADY', 'NP3PTRMR', 'NP3PTRML',\n",
    "#                  'NP3KTRMR', 'NP3KTRML',\n",
    "#                   'NP3RTARU', 'NP3RTALU', 'NP3RTARL',\n",
    "#                  'NP3RTALL', 'NP3RTALJ', 'NP3RTCON','updrs_iii'],columns=pd.MultiIndex.from_product(['SAA','positiveDaT'],['mean','std','min','max']\n",
    "for test in ['SAA','positiveDaT']:\n",
    "    FN = data[np.logical_and(data['risk_digital']==0, data[test]==1)]\n",
    "    TP = data[np.logical_and(data['risk_digital']==1, data[test]==1)]\n",
    "    data[f'{test}_digital'] = np.logical_and(data['risk_digital']==0, data[test]==1)\n",
    "    #data.loc[np.logical_and(data['risk_digital']==1, data[test]==0),f'{test}_digital'] = np.nan\n",
    "    #data.loc[np.logical_and(data['risk_digital']==0, data[test]==0),f'{test}_digital'] = np.nan\n",
    "    for v in ['NP3SPCH', 'NP3FACXP', 'NP3RIGN', 'NP3RIGRU', 'NP3RIGLU',\n",
    "                     'NP3RIGRL', 'NP3RIGLL', 'NP3FTAPR', 'NP3FTAPL', 'NP3HMOVR',\n",
    "                     'NP3HMOVL', 'NP3PRSPR', 'NP3PRSPL', 'NP3TTAPR', 'NP3TTAPL',\n",
    "                     'NP3LGAGR', 'NP3LGAGL', 'NP3RISNG', 'NP3GAIT', 'NP3FRZGT',\n",
    "                     'NP3PSTBL', 'NP3POSTR', 'NP3BRADY', 'NP3PTRMR', 'NP3PTRML',\n",
    "                     'NP3KTRMR', 'NP3KTRML',\n",
    "                      'NP3RTARU', 'NP3RTALU', 'NP3RTARL',\n",
    "                     'NP3RTALL', 'NP3RTALJ', 'NP3RTCON','updrs_iii']:\n",
    "            ttest.loc[v,(test,slice(None))] = pg.mwu(data.loc[data[f'{test}_digital']==1,v].dropna(),data.loc[data[f'{test}_digital']==0,v].dropna()).values[0]"
   ]
  },
  {
   "cell_type": "code",
   "execution_count": null,
   "metadata": {},
   "outputs": [],
   "source": [
    "# clinical scores\n",
    "behavior = pd.read_csv(f'{path}/phenotypes2021/behavior_clean.csv')\n",
    "behavior = behavior.groupby('participant').max()\n",
    "behavior['updrs_iii_OFF'] = behavior['updrs_iii_OFF'].fillna(behavior['updrs_iii_NoMED'])\n",
    "data = pd.merge(behavior,nona_all,on='participant')\n",
    "c = 'updrs_iii_OFF'\n",
    "corr = pd.DataFrame(index=pd.MultiIndex.from_product([['digital','hyposmia','Heinzel2019 restricted'],['SAA','positiveDaT','SAA_DaT']],names=['prediction','true']),columns=['T', 'dof', 'alternative', 'p-val', 'CI95%', 'cohen-d', 'BF10',\n",
    "       'power','mean FN','mean TP','std FN','std TP','N FN','N TP'])\n",
    "for test in ['SAA','positiveDaT','SAA_DaT']:\n",
    "    for risk,name in zip(['risk_digital','HYPOSMIA','risk_prodromal_Heinzel_noDaT'],['digital','hyposmia','Heinzel2019 restricted']):\n",
    "        FN = data[np.logical_and(data[risk]==0, data[test]==1)]\n",
    "        TP = data[np.logical_and(data[risk]==1, data[test]==1)]\n",
    "        data[f'{test}_{name}'] = np.logical_and(data[risk]==0, data[test]==1).astype(int).replace([0],[np.nan])\n",
    "        data.loc[TP.index,f'{test}_{name}'] = 0\n",
    "        corr.loc[(name,test),['T', 'dof', 'alternative', 'p-val', 'CI95%', 'cohen-d', 'BF10','power']] = pg.ttest(data.loc[data[f'{test}_{name}']==1,c].dropna(),data.loc[data[f'{test}_{name}']==0,c],correction=True).values\n",
    "        corr.loc[(name,test),'mean FN'] = data.loc[data[f'{test}_{name}']==1,c].dropna().mean()\n",
    "        corr.loc[(name,test),'mean TP'] = data.loc[data[f'{test}_{name}']==0,c].dropna().mean()\n",
    "        corr.loc[(name,test),'std FN'] = data.loc[data[f'{test}_{name}']==1,c].dropna().std()\n",
    "        corr.loc[(name,test),'std TP'] = data.loc[data[f'{test}_{name}']==0,c].dropna().std()\n",
    "        corr.loc[(name,test),'N FN'] = data.loc[data[f'{test}_{name}']==1,c].dropna().shape[0]\n",
    "        corr.loc[(name,test),'N TP'] = data.loc[data[f'{test}_{name}']==0,c].dropna().shape[0]\n",
    "        #print(data.loc[data[f'{test}_digital']==0,c].dropna().shape[0],data.loc[data[f'{test}_digital']==1,c].dropna().shape[0])"
   ]
  },
  {
   "cell_type": "code",
   "execution_count": null,
   "metadata": {},
   "outputs": [],
   "source": [
    "corr"
   ]
  },
  {
   "cell_type": "code",
   "execution_count": null,
   "metadata": {},
   "outputs": [],
   "source": [
    "corr.to_csv(f'{path}/analyses/prodromal/falsenegatives_updrsiii_welch.csv')"
   ]
  },
  {
   "cell_type": "code",
   "execution_count": null,
   "metadata": {},
   "outputs": [],
   "source": [
    "updrs = pd.read_csv('/scratch/c.c21013066/data/ppmi/phenotypes2021/MDS_UPDRS_Part_III.csv',na_values=['UR'],parse_dates=['INFODT'])\n",
    "data = updrs.loc[updrs['PATNO'].isin(FN['participant']),['PATNO','INFODT','NP3SPCH', 'NP3FACXP', 'NP3RIGN', 'NP3RIGRU', 'NP3RIGLU',\n",
    "                 'NP3RIGRL', 'NP3RIGLL', 'NP3FTAPR', 'NP3FTAPL', 'NP3HMOVR',\n",
    "                 'NP3HMOVL', 'NP3PRSPR', 'NP3PRSPL', 'NP3TTAPR', 'NP3TTAPL',\n",
    "                 'NP3LGAGR', 'NP3LGAGL', 'NP3RISNG', 'NP3GAIT', 'NP3FRZGT',\n",
    "                 'NP3PSTBL', 'NP3POSTR', 'NP3BRADY', 'NP3PTRMR', 'NP3PTRML',\n",
    "                 'NP3KTRMR', 'NP3KTRML',\n",
    "                  'NP3RTARU', 'NP3RTALU', 'NP3RTARL',\n",
    "                 'NP3RTALL', 'NP3RTALJ', 'NP3RTCON']]\n",
    "\n",
    "fig,axes = plt.subplots(nrows=6,ncols=6,figsize=(15,15))\n",
    "for ax,item in zip(axes.flatten(),['NP3SPCH', 'NP3FACXP', 'NP3RIGN', 'NP3RIGRU', 'NP3RIGLU',\n",
    "                 'NP3RIGRL', 'NP3RIGLL', 'NP3FTAPR', 'NP3FTAPL', 'NP3HMOVR',\n",
    "                 'NP3HMOVL', 'NP3PRSPR', 'NP3PRSPL', 'NP3TTAPR', 'NP3TTAPL',\n",
    "                 'NP3LGAGR', 'NP3LGAGL', 'NP3RISNG', 'NP3GAIT', 'NP3FRZGT',\n",
    "                 'NP3PSTBL', 'NP3POSTR', 'NP3BRADY', 'NP3PTRMR', 'NP3PTRML',\n",
    "                 'NP3KTRMR', 'NP3KTRML',\n",
    "                  'NP3RTARU', 'NP3RTALU', 'NP3RTARL',\n",
    "                 'NP3RTALL', 'NP3RTALJ', 'NP3RTCON']):\n",
    "    ax = sns.scatterplot(x='INFODT',y=item,hue='PATNO',data=data,ax=ax,palette='deep')\n",
    "    ax.legend([],[], frameon=False)\n",
    "plt.tight_layout()\n",
    "fig.autofmt_xdate()"
   ]
  },
  {
   "cell_type": "code",
   "execution_count": null,
   "metadata": {},
   "outputs": [],
   "source": [
    "data.groupby('PATNO')[['NP3SPCH', 'NP3FACXP', 'NP3RIGN', 'NP3RIGRU', 'NP3RIGLU',\n",
    "                 'NP3RIGRL', 'NP3RIGLL', 'NP3FTAPR', 'NP3FTAPL', 'NP3HMOVR',\n",
    "                 'NP3HMOVL', 'NP3PRSPR', 'NP3PRSPL', 'NP3TTAPR', 'NP3TTAPL',\n",
    "                 'NP3LGAGR', 'NP3LGAGL', 'NP3RISNG', 'NP3GAIT', 'NP3FRZGT',\n",
    "                 'NP3PSTBL', 'NP3POSTR', 'NP3BRADY', 'NP3PTRMR', 'NP3PTRML',\n",
    "                 'NP3KTRMR', 'NP3KTRML',\n",
    "                  'NP3RTARU', 'NP3RTALU', 'NP3RTARL',\n",
    "                 'NP3RTALL', 'NP3RTALJ', 'NP3RTCON']].apply(lambda x: (x>0).sum()).T"
   ]
  },
  {
   "cell_type": "code",
   "execution_count": null,
   "metadata": {},
   "outputs": [],
   "source": [
    "demo = pd.read_csv('/scratch/c.c21013066/data/ppmi/phenotypes2021/demographics_clean.csv',parse_dates=['date_birth'])\n",
    "merged, ambulatory, step, sleep, pulse, pulsevar = utils.load_timeseries(demo, '/scratch/c.c21013066/data/ppmi/accelerometer')"
   ]
  },
  {
   "cell_type": "code",
   "execution_count": null,
   "metadata": {},
   "outputs": [],
   "source": [
    "step = step.loc[(FN['participant'],slice(None)),:]"
   ]
  },
  {
   "cell_type": "code",
   "execution_count": null,
   "metadata": {},
   "outputs": [],
   "source": [
    "time_covered = step.reset_index().groupby('subject')['date_local_adj'].apply(lambda x: (x.max()-x.min())/np.timedelta64(1, 'h'))\n",
    "data_av = step.reset_index().groupby('subject')['hourly_step_count_sum'].count()"
   ]
  },
  {
   "cell_type": "code",
   "execution_count": null,
   "metadata": {},
   "outputs": [],
   "source": [
    "(100/time_covered)*(data_av)"
   ]
  },
  {
   "cell_type": "markdown",
   "metadata": {},
   "source": [
    "# Agreed high risk"
   ]
  },
  {
   "cell_type": "code",
   "execution_count": null,
   "metadata": {},
   "outputs": [],
   "source": [
    "HR = nona_all[np.logical_and(nona_all['risk_digital']==1, np.logical_and(nona_all['SAA']==1,np.logical_and(nona_all['positiveDaT']==1,nona_all['risk_prodromal_Heinzel']==1)))]"
   ]
  },
  {
   "cell_type": "code",
   "execution_count": null,
   "metadata": {},
   "outputs": [],
   "source": [
    "HR[var].agg(['count','mean']).T"
   ]
  }
 ],
 "metadata": {
  "kernelspec": {
   "display_name": "Python [conda env:timeseries]",
   "language": "python",
   "name": "conda-env-timeseries-py"
  },
  "language_info": {
   "codemirror_mode": {
    "name": "ipython",
    "version": 3
   },
   "file_extension": ".py",
   "mimetype": "text/x-python",
   "name": "python",
   "nbconvert_exporter": "python",
   "pygments_lexer": "ipython3",
   "version": "3.9.0"
  }
 },
 "nbformat": 4,
 "nbformat_minor": 5
}
